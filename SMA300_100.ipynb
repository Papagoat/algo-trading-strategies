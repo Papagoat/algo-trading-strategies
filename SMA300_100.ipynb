{
  "nbformat": 4,
  "nbformat_minor": 0,
  "metadata": {
    "colab": {
      "name": "SMA300-100",
      "provenance": [],
      "collapsed_sections": [],
      "authorship_tag": "ABX9TyM0TSmoaN6WrIWSPMvnIKje",
      "include_colab_link": true
    },
    "kernelspec": {
      "name": "python3",
      "display_name": "Python 3"
    },
    "language_info": {
      "name": "python"
    }
  },
  "cells": [
    {
      "cell_type": "markdown",
      "metadata": {
        "id": "view-in-github",
        "colab_type": "text"
      },
      "source": [
        "<a href=\"https://colab.research.google.com/github/Papagoat/algo-trading-strategies/blob/main/SMA300_100.ipynb\" target=\"_parent\"><img src=\"https://colab.research.google.com/assets/colab-badge.svg\" alt=\"Open In Colab\"/></a>"
      ]
    },
    {
      "cell_type": "code",
      "metadata": {
        "colab": {
          "base_uri": "https://localhost:8080/"
        },
        "id": "3y4X0GVp4YfG",
        "outputId": "3b267abd-e52a-4289-e7e9-57680e94fafa"
      },
      "source": [
        "pip install yfinance"
      ],
      "execution_count": null,
      "outputs": [
        {
          "output_type": "stream",
          "text": [
            "Requirement already satisfied: yfinance in /usr/local/lib/python3.7/dist-packages (0.1.59)\n",
            "Requirement already satisfied: multitasking>=0.0.7 in /usr/local/lib/python3.7/dist-packages (from yfinance) (0.0.9)\n",
            "Requirement already satisfied: numpy>=1.15 in /usr/local/lib/python3.7/dist-packages (from yfinance) (1.19.5)\n",
            "Requirement already satisfied: requests>=2.20 in /usr/local/lib/python3.7/dist-packages (from yfinance) (2.23.0)\n",
            "Requirement already satisfied: pandas>=0.24 in /usr/local/lib/python3.7/dist-packages (from yfinance) (1.1.5)\n",
            "Requirement already satisfied: lxml>=4.5.1 in /usr/local/lib/python3.7/dist-packages (from yfinance) (4.6.3)\n",
            "Requirement already satisfied: idna<3,>=2.5 in /usr/local/lib/python3.7/dist-packages (from requests>=2.20->yfinance) (2.10)\n",
            "Requirement already satisfied: urllib3!=1.25.0,!=1.25.1,<1.26,>=1.21.1 in /usr/local/lib/python3.7/dist-packages (from requests>=2.20->yfinance) (1.24.3)\n",
            "Requirement already satisfied: chardet<4,>=3.0.2 in /usr/local/lib/python3.7/dist-packages (from requests>=2.20->yfinance) (3.0.4)\n",
            "Requirement already satisfied: certifi>=2017.4.17 in /usr/local/lib/python3.7/dist-packages (from requests>=2.20->yfinance) (2020.12.5)\n",
            "Requirement already satisfied: pytz>=2017.2 in /usr/local/lib/python3.7/dist-packages (from pandas>=0.24->yfinance) (2018.9)\n",
            "Requirement already satisfied: python-dateutil>=2.7.3 in /usr/local/lib/python3.7/dist-packages (from pandas>=0.24->yfinance) (2.8.1)\n",
            "Requirement already satisfied: six>=1.5 in /usr/local/lib/python3.7/dist-packages (from python-dateutil>=2.7.3->pandas>=0.24->yfinance) (1.15.0)\n"
          ],
          "name": "stdout"
        }
      ]
    },
    {
      "cell_type": "code",
      "metadata": {
        "id": "5nSfyOhphebg"
      },
      "source": [
        "import pandas as pd\n",
        "import numpy as np\n",
        "import datetime as datetime\n",
        "import matplotlib.pyplot as plt\n",
        "plt.style.use('fivethirtyeight')\n",
        "\n",
        "import yfinance as yf\n",
        "import time\n",
        "import requests\n",
        "import io"
      ],
      "execution_count": null,
      "outputs": []
    },
    {
      "cell_type": "code",
      "metadata": {
        "id": "Y-oxaoM64gk3"
      },
      "source": [
        "start = datetime.datetime(2010,2,1)\n",
        "end = datetime.datetime.now()"
      ],
      "execution_count": null,
      "outputs": []
    },
    {
      "cell_type": "code",
      "metadata": {
        "id": "spZSC6Eo4ia2"
      },
      "source": [
        "# url=\"https://pkgstore.datahub.io/core/nasdaq-listings/nasdaq-listed_csv/data/7665719fb51081ba0bd834fde71ce822/nasdaq-listed_csv.csv\"\n",
        "# s = requests.get(url).content\n",
        "# companies = pd.read_csv(io.StringIO(s.decode('utf-8')))"
      ],
      "execution_count": null,
      "outputs": []
    },
    {
      "cell_type": "code",
      "metadata": {
        "id": "zXpKtum64khY"
      },
      "source": [
        "# Symbols = companies['Symbol'].tolist()"
      ],
      "execution_count": null,
      "outputs": []
    },
    {
      "cell_type": "code",
      "metadata": {
        "colab": {
          "base_uri": "https://localhost:8080/",
          "height": 467
        },
        "id": "n4xy9r0Mo94-",
        "outputId": "3faa96ed-3e95-4003-bf02-337fbcfac6fc"
      },
      "source": [
        " tsla_historical_data = yf.download(tickers=\"TSLA\",start=start, end=end)\n",
        "# tsla_historical_data = yf.Ticker('TSLA').history(period='730d', interval='1h')\n",
        "tsla_historical_data"
      ],
      "execution_count": null,
      "outputs": [
        {
          "output_type": "stream",
          "text": [
            "\r[*********************100%***********************]  1 of 1 completed\n"
          ],
          "name": "stdout"
        },
        {
          "output_type": "execute_result",
          "data": {
            "text/html": [
              "<div>\n",
              "<style scoped>\n",
              "    .dataframe tbody tr th:only-of-type {\n",
              "        vertical-align: middle;\n",
              "    }\n",
              "\n",
              "    .dataframe tbody tr th {\n",
              "        vertical-align: top;\n",
              "    }\n",
              "\n",
              "    .dataframe thead th {\n",
              "        text-align: right;\n",
              "    }\n",
              "</style>\n",
              "<table border=\"1\" class=\"dataframe\">\n",
              "  <thead>\n",
              "    <tr style=\"text-align: right;\">\n",
              "      <th></th>\n",
              "      <th>Open</th>\n",
              "      <th>High</th>\n",
              "      <th>Low</th>\n",
              "      <th>Close</th>\n",
              "      <th>Adj Close</th>\n",
              "      <th>Volume</th>\n",
              "    </tr>\n",
              "    <tr>\n",
              "      <th>Date</th>\n",
              "      <th></th>\n",
              "      <th></th>\n",
              "      <th></th>\n",
              "      <th></th>\n",
              "      <th></th>\n",
              "      <th></th>\n",
              "    </tr>\n",
              "  </thead>\n",
              "  <tbody>\n",
              "    <tr>\n",
              "      <th>2010-06-29</th>\n",
              "      <td>3.800000</td>\n",
              "      <td>5.000000</td>\n",
              "      <td>3.508000</td>\n",
              "      <td>4.778000</td>\n",
              "      <td>4.778000</td>\n",
              "      <td>93831500</td>\n",
              "    </tr>\n",
              "    <tr>\n",
              "      <th>2010-06-30</th>\n",
              "      <td>5.158000</td>\n",
              "      <td>6.084000</td>\n",
              "      <td>4.660000</td>\n",
              "      <td>4.766000</td>\n",
              "      <td>4.766000</td>\n",
              "      <td>85935500</td>\n",
              "    </tr>\n",
              "    <tr>\n",
              "      <th>2010-07-01</th>\n",
              "      <td>5.000000</td>\n",
              "      <td>5.184000</td>\n",
              "      <td>4.054000</td>\n",
              "      <td>4.392000</td>\n",
              "      <td>4.392000</td>\n",
              "      <td>41094000</td>\n",
              "    </tr>\n",
              "    <tr>\n",
              "      <th>2010-07-02</th>\n",
              "      <td>4.600000</td>\n",
              "      <td>4.620000</td>\n",
              "      <td>3.742000</td>\n",
              "      <td>3.840000</td>\n",
              "      <td>3.840000</td>\n",
              "      <td>25699000</td>\n",
              "    </tr>\n",
              "    <tr>\n",
              "      <th>2010-07-06</th>\n",
              "      <td>4.000000</td>\n",
              "      <td>4.000000</td>\n",
              "      <td>3.166000</td>\n",
              "      <td>3.222000</td>\n",
              "      <td>3.222000</td>\n",
              "      <td>34334500</td>\n",
              "    </tr>\n",
              "    <tr>\n",
              "      <th>...</th>\n",
              "      <td>...</td>\n",
              "      <td>...</td>\n",
              "      <td>...</td>\n",
              "      <td>...</td>\n",
              "      <td>...</td>\n",
              "      <td>...</td>\n",
              "    </tr>\n",
              "    <tr>\n",
              "      <th>2021-05-14</th>\n",
              "      <td>583.409973</td>\n",
              "      <td>592.869995</td>\n",
              "      <td>570.460022</td>\n",
              "      <td>589.739990</td>\n",
              "      <td>589.739990</td>\n",
              "      <td>33230600</td>\n",
              "    </tr>\n",
              "    <tr>\n",
              "      <th>2021-05-17</th>\n",
              "      <td>575.549988</td>\n",
              "      <td>589.729980</td>\n",
              "      <td>561.200012</td>\n",
              "      <td>576.830017</td>\n",
              "      <td>576.830017</td>\n",
              "      <td>32390400</td>\n",
              "    </tr>\n",
              "    <tr>\n",
              "      <th>2021-05-18</th>\n",
              "      <td>568.000000</td>\n",
              "      <td>596.250000</td>\n",
              "      <td>563.380005</td>\n",
              "      <td>577.869995</td>\n",
              "      <td>577.869995</td>\n",
              "      <td>36830600</td>\n",
              "    </tr>\n",
              "    <tr>\n",
              "      <th>2021-05-19</th>\n",
              "      <td>552.549988</td>\n",
              "      <td>566.210022</td>\n",
              "      <td>546.979980</td>\n",
              "      <td>563.460022</td>\n",
              "      <td>563.460022</td>\n",
              "      <td>39471500</td>\n",
              "    </tr>\n",
              "    <tr>\n",
              "      <th>2021-05-20</th>\n",
              "      <td>575.000000</td>\n",
              "      <td>588.784973</td>\n",
              "      <td>571.071289</td>\n",
              "      <td>586.780029</td>\n",
              "      <td>586.780029</td>\n",
              "      <td>30171821</td>\n",
              "    </tr>\n",
              "  </tbody>\n",
              "</table>\n",
              "<p>2743 rows × 6 columns</p>\n",
              "</div>"
            ],
            "text/plain": [
              "                  Open        High  ...   Adj Close    Volume\n",
              "Date                                ...                      \n",
              "2010-06-29    3.800000    5.000000  ...    4.778000  93831500\n",
              "2010-06-30    5.158000    6.084000  ...    4.766000  85935500\n",
              "2010-07-01    5.000000    5.184000  ...    4.392000  41094000\n",
              "2010-07-02    4.600000    4.620000  ...    3.840000  25699000\n",
              "2010-07-06    4.000000    4.000000  ...    3.222000  34334500\n",
              "...                ...         ...  ...         ...       ...\n",
              "2021-05-14  583.409973  592.869995  ...  589.739990  33230600\n",
              "2021-05-17  575.549988  589.729980  ...  576.830017  32390400\n",
              "2021-05-18  568.000000  596.250000  ...  577.869995  36830600\n",
              "2021-05-19  552.549988  566.210022  ...  563.460022  39471500\n",
              "2021-05-20  575.000000  588.784973  ...  586.780029  30171821\n",
              "\n",
              "[2743 rows x 6 columns]"
            ]
          },
          "metadata": {
            "tags": []
          },
          "execution_count": 78
        }
      ]
    },
    {
      "cell_type": "code",
      "metadata": {
        "id": "-8hUTA7E4nA7"
      },
      "source": [
        "# # create empty dataframe\n",
        "# tsla_historical_data = pd.DataFrame()\n",
        "    \n",
        "# try:\n",
        "#     # download the stock price \n",
        "#     tsla = []\n",
        "#     tsla = yf.download(tickers=\"TSLA\",start=start, end=end, progress=False)\n",
        "    \n",
        "#     # append the individual stock prices \n",
        "#     if len(tsla) == 0:\n",
        "#         None\n",
        "#     else:\n",
        "#         tsla['Name']='TSLA'\n",
        "#         tsla_historical_data = tsla_historical_data.append(tsla,sort=False)\n",
        "# except Exception:\n",
        "#     None"
      ],
      "execution_count": null,
      "outputs": []
    },
    {
      "cell_type": "code",
      "metadata": {
        "id": "HhqZZgBjioP2"
      },
      "source": [
        "# from google.colab import files\n",
        "# uploaded = files.upload()"
      ],
      "execution_count": null,
      "outputs": []
    },
    {
      "cell_type": "code",
      "metadata": {
        "id": "Df8JDV1Qiw5i"
      },
      "source": [
        "# BTC = pd.read_csv('TSLA.csv')\n",
        "# BTC"
      ],
      "execution_count": null,
      "outputs": []
    },
    {
      "cell_type": "code",
      "metadata": {
        "colab": {
          "base_uri": "https://localhost:8080/",
          "height": 354
        },
        "id": "5DIDIPBLk4ek",
        "outputId": "da6d9a6f-4e02-4055-ee02-9ca66caa684a"
      },
      "source": [
        "plt.figure(figsize=(12.5, 4.5))\n",
        "# plt.gca().invert_xaxis()\n",
        "plt.plot(tsla_historical_data['Close'], label='TSLA Historical Data')\n",
        "plt.title('TSLA Historical Close Price History')\n",
        "plt.xlabel(f'{start.strftime(\"%B %d, %Y\")} - {datetime.datetime.now().strftime(\"%B %d, %Y\")}')\n",
        "plt.ylabel('Close Price USD')\n",
        "plt.legend(loc='upper left')\n",
        "plt.show()"
      ],
      "execution_count": null,
      "outputs": [
        {
          "output_type": "display_data",
          "data": {
            "image/png": "[encoded data removed]",
            "text/plain": [
              "<Figure size 900x324 with 1 Axes>"
            ]
          },
          "metadata": {
            "tags": []
          }
        }
      ]
    },
    {
      "cell_type": "code",
      "metadata": {
        "colab": {
          "base_uri": "https://localhost:8080/",
          "height": 450
        },
        "id": "H60w838voo_U",
        "outputId": "35d67055-1ef9-4021-fdad-7f4831e33014"
      },
      "source": [
        "SMA30 = pd.DataFrame()\n",
        "SMA30['Close Price'] = tsla_historical_data['Adj Close'].rolling(window=30).mean()\n",
        "SMA30 = SMA30.dropna()\n",
        "SMA30"
      ],
      "execution_count": null,
      "outputs": [
        {
          "output_type": "execute_result",
          "data": {
            "text/html": [
              "<div>\n",
              "<style scoped>\n",
              "    .dataframe tbody tr th:only-of-type {\n",
              "        vertical-align: middle;\n",
              "    }\n",
              "\n",
              "    .dataframe tbody tr th {\n",
              "        vertical-align: top;\n",
              "    }\n",
              "\n",
              "    .dataframe thead th {\n",
              "        text-align: right;\n",
              "    }\n",
              "</style>\n",
              "<table border=\"1\" class=\"dataframe\">\n",
              "  <thead>\n",
              "    <tr style=\"text-align: right;\">\n",
              "      <th></th>\n",
              "      <th>Close Price</th>\n",
              "    </tr>\n",
              "    <tr>\n",
              "      <th>Date</th>\n",
              "      <th></th>\n",
              "    </tr>\n",
              "  </thead>\n",
              "  <tbody>\n",
              "    <tr>\n",
              "      <th>2010-08-10</th>\n",
              "      <td>4.008267</td>\n",
              "    </tr>\n",
              "    <tr>\n",
              "      <th>2010-08-11</th>\n",
              "      <td>3.968333</td>\n",
              "    </tr>\n",
              "    <tr>\n",
              "      <th>2010-08-12</th>\n",
              "      <td>3.926800</td>\n",
              "    </tr>\n",
              "    <tr>\n",
              "      <th>2010-08-13</th>\n",
              "      <td>3.902533</td>\n",
              "    </tr>\n",
              "    <tr>\n",
              "      <th>2010-08-16</th>\n",
              "      <td>3.899733</td>\n",
              "    </tr>\n",
              "    <tr>\n",
              "      <th>...</th>\n",
              "      <td>...</td>\n",
              "    </tr>\n",
              "    <tr>\n",
              "      <th>2021-05-14</th>\n",
              "      <td>686.771332</td>\n",
              "    </tr>\n",
              "    <tr>\n",
              "      <th>2021-05-17</th>\n",
              "      <td>682.963999</td>\n",
              "    </tr>\n",
              "    <tr>\n",
              "      <th>2021-05-18</th>\n",
              "      <td>679.172333</td>\n",
              "    </tr>\n",
              "    <tr>\n",
              "      <th>2021-05-19</th>\n",
              "      <td>675.588668</td>\n",
              "    </tr>\n",
              "    <tr>\n",
              "      <th>2021-05-20</th>\n",
              "      <td>672.354669</td>\n",
              "    </tr>\n",
              "  </tbody>\n",
              "</table>\n",
              "<p>2714 rows × 1 columns</p>\n",
              "</div>"
            ],
            "text/plain": [
              "            Close Price\n",
              "Date                   \n",
              "2010-08-10     4.008267\n",
              "2010-08-11     3.968333\n",
              "2010-08-12     3.926800\n",
              "2010-08-13     3.902533\n",
              "2010-08-16     3.899733\n",
              "...                 ...\n",
              "2021-05-14   686.771332\n",
              "2021-05-17   682.963999\n",
              "2021-05-18   679.172333\n",
              "2021-05-19   675.588668\n",
              "2021-05-20   672.354669\n",
              "\n",
              "[2714 rows x 1 columns]"
            ]
          },
          "metadata": {
            "tags": []
          },
          "execution_count": 83
        }
      ]
    },
    {
      "cell_type": "code",
      "metadata": {
        "colab": {
          "base_uri": "https://localhost:8080/",
          "height": 450
        },
        "id": "zhPNX5cBp3oI",
        "outputId": "b99b25a4-6cda-486d-f452-f532095c02a1"
      },
      "source": [
        "SMA100 = pd.DataFrame()\n",
        "SMA100['Close Price'] = tsla_historical_data['Adj Close'].rolling(window=100).mean()\n",
        "SMA100 = SMA100.dropna()\n",
        "SMA100"
      ],
      "execution_count": null,
      "outputs": [
        {
          "output_type": "execute_result",
          "data": {
            "text/html": [
              "<div>\n",
              "<style scoped>\n",
              "    .dataframe tbody tr th:only-of-type {\n",
              "        vertical-align: middle;\n",
              "    }\n",
              "\n",
              "    .dataframe tbody tr th {\n",
              "        vertical-align: top;\n",
              "    }\n",
              "\n",
              "    .dataframe thead th {\n",
              "        text-align: right;\n",
              "    }\n",
              "</style>\n",
              "<table border=\"1\" class=\"dataframe\">\n",
              "  <thead>\n",
              "    <tr style=\"text-align: right;\">\n",
              "      <th></th>\n",
              "      <th>Close Price</th>\n",
              "    </tr>\n",
              "    <tr>\n",
              "      <th>Date</th>\n",
              "      <th></th>\n",
              "    </tr>\n",
              "  </thead>\n",
              "  <tbody>\n",
              "    <tr>\n",
              "      <th>2010-11-17</th>\n",
              "      <td>4.197580</td>\n",
              "    </tr>\n",
              "    <tr>\n",
              "      <th>2010-11-18</th>\n",
              "      <td>4.209580</td>\n",
              "    </tr>\n",
              "    <tr>\n",
              "      <th>2010-11-19</th>\n",
              "      <td>4.223900</td>\n",
              "    </tr>\n",
              "    <tr>\n",
              "      <th>2010-11-22</th>\n",
              "      <td>4.246780</td>\n",
              "    </tr>\n",
              "    <tr>\n",
              "      <th>2010-11-23</th>\n",
              "      <td>4.277520</td>\n",
              "    </tr>\n",
              "    <tr>\n",
              "      <th>...</th>\n",
              "      <td>...</td>\n",
              "    </tr>\n",
              "    <tr>\n",
              "      <th>2021-05-14</th>\n",
              "      <td>725.373098</td>\n",
              "    </tr>\n",
              "    <tr>\n",
              "      <th>2021-05-17</th>\n",
              "      <td>724.642798</td>\n",
              "    </tr>\n",
              "    <tr>\n",
              "      <th>2021-05-18</th>\n",
              "      <td>724.018098</td>\n",
              "    </tr>\n",
              "    <tr>\n",
              "      <th>2021-05-19</th>\n",
              "      <td>723.192899</td>\n",
              "    </tr>\n",
              "    <tr>\n",
              "      <th>2021-05-20</th>\n",
              "      <td>722.442999</td>\n",
              "    </tr>\n",
              "  </tbody>\n",
              "</table>\n",
              "<p>2644 rows × 1 columns</p>\n",
              "</div>"
            ],
            "text/plain": [
              "            Close Price\n",
              "Date                   \n",
              "2010-11-17     4.197580\n",
              "2010-11-18     4.209580\n",
              "2010-11-19     4.223900\n",
              "2010-11-22     4.246780\n",
              "2010-11-23     4.277520\n",
              "...                 ...\n",
              "2021-05-14   725.373098\n",
              "2021-05-17   724.642798\n",
              "2021-05-18   724.018098\n",
              "2021-05-19   723.192899\n",
              "2021-05-20   722.442999\n",
              "\n",
              "[2644 rows x 1 columns]"
            ]
          },
          "metadata": {
            "tags": []
          },
          "execution_count": 84
        }
      ]
    },
    {
      "cell_type": "code",
      "metadata": {
        "colab": {
          "base_uri": "https://localhost:8080/",
          "height": 354
        },
        "id": "eHo7ppgIqL0H",
        "outputId": "4a10ef70-686b-4393-806c-418497a12d40"
      },
      "source": [
        "plt.figure(figsize=(12.5, 4.5))\n",
        "plt.plot(tsla_historical_data['Adj Close'], label='TSLA Historical Data')\n",
        "plt.plot(SMA30['Close Price'], label='SMA30')\n",
        "plt.plot(SMA100['Close Price'], label='SMA100')\n",
        "plt.title('TSLA Historical Data Close Price History')\n",
        "plt.xlabel(f'{start.strftime(\"%B %d, %Y\")} - {datetime.datetime.now().strftime(\"%B %d, %Y\")}')\n",
        "plt.ylabel('Close Price USD')\n",
        "plt.legend(loc='upper left')\n",
        "plt.show()"
      ],
      "execution_count": null,
      "outputs": [
        {
          "output_type": "display_data",
          "data": {
            "image/png": "[encoded data removed]",
            "text/plain": [
              "<Figure size 900x324 with 1 Axes>"
            ]
          },
          "metadata": {
            "tags": []
          }
        }
      ]
    },
    {
      "cell_type": "code",
      "metadata": {
        "colab": {
          "base_uri": "https://localhost:8080/",
          "height": 450
        },
        "id": "qqaOnBI6q4LX",
        "outputId": "8b2694ce-1f77-4824-dd2b-16179b92c65c"
      },
      "source": [
        "data = pd.DataFrame()\n",
        "data['TSLA'] = tsla_historical_data['Adj Close']\n",
        "data['SMA30'] = SMA30['Close Price']\n",
        "data['SMA100'] = SMA100['Close Price']\n",
        "data = data.dropna()\n",
        "data"
      ],
      "execution_count": null,
      "outputs": [
        {
          "output_type": "execute_result",
          "data": {
            "text/html": [
              "<div>\n",
              "<style scoped>\n",
              "    .dataframe tbody tr th:only-of-type {\n",
              "        vertical-align: middle;\n",
              "    }\n",
              "\n",
              "    .dataframe tbody tr th {\n",
              "        vertical-align: top;\n",
              "    }\n",
              "\n",
              "    .dataframe thead th {\n",
              "        text-align: right;\n",
              "    }\n",
              "</style>\n",
              "<table border=\"1\" class=\"dataframe\">\n",
              "  <thead>\n",
              "    <tr style=\"text-align: right;\">\n",
              "      <th></th>\n",
              "      <th>TSLA</th>\n",
              "      <th>SMA30</th>\n",
              "      <th>SMA100</th>\n",
              "    </tr>\n",
              "    <tr>\n",
              "      <th>Date</th>\n",
              "      <th></th>\n",
              "      <th></th>\n",
              "      <th></th>\n",
              "    </tr>\n",
              "  </thead>\n",
              "  <tbody>\n",
              "    <tr>\n",
              "      <th>2010-11-17</th>\n",
              "      <td>5.898000</td>\n",
              "      <td>4.615933</td>\n",
              "      <td>4.197580</td>\n",
              "    </tr>\n",
              "    <tr>\n",
              "      <th>2010-11-18</th>\n",
              "      <td>5.978000</td>\n",
              "      <td>4.679000</td>\n",
              "      <td>4.209580</td>\n",
              "    </tr>\n",
              "    <tr>\n",
              "      <th>2010-11-19</th>\n",
              "      <td>6.198000</td>\n",
              "      <td>4.749400</td>\n",
              "      <td>4.223900</td>\n",
              "    </tr>\n",
              "    <tr>\n",
              "      <th>2010-11-22</th>\n",
              "      <td>6.680000</td>\n",
              "      <td>4.837133</td>\n",
              "      <td>4.246780</td>\n",
              "    </tr>\n",
              "    <tr>\n",
              "      <th>2010-11-23</th>\n",
              "      <td>6.914000</td>\n",
              "      <td>4.932667</td>\n",
              "      <td>4.277520</td>\n",
              "    </tr>\n",
              "    <tr>\n",
              "      <th>...</th>\n",
              "      <td>...</td>\n",
              "      <td>...</td>\n",
              "      <td>...</td>\n",
              "    </tr>\n",
              "    <tr>\n",
              "      <th>2021-05-14</th>\n",
              "      <td>589.739990</td>\n",
              "      <td>686.771332</td>\n",
              "      <td>725.373098</td>\n",
              "    </tr>\n",
              "    <tr>\n",
              "      <th>2021-05-17</th>\n",
              "      <td>576.830017</td>\n",
              "      <td>682.963999</td>\n",
              "      <td>724.642798</td>\n",
              "    </tr>\n",
              "    <tr>\n",
              "      <th>2021-05-18</th>\n",
              "      <td>577.869995</td>\n",
              "      <td>679.172333</td>\n",
              "      <td>724.018098</td>\n",
              "    </tr>\n",
              "    <tr>\n",
              "      <th>2021-05-19</th>\n",
              "      <td>563.460022</td>\n",
              "      <td>675.588668</td>\n",
              "      <td>723.192899</td>\n",
              "    </tr>\n",
              "    <tr>\n",
              "      <th>2021-05-20</th>\n",
              "      <td>586.780029</td>\n",
              "      <td>672.354669</td>\n",
              "      <td>722.442999</td>\n",
              "    </tr>\n",
              "  </tbody>\n",
              "</table>\n",
              "<p>2644 rows × 3 columns</p>\n",
              "</div>"
            ],
            "text/plain": [
              "                  TSLA       SMA30      SMA100\n",
              "Date                                          \n",
              "2010-11-17    5.898000    4.615933    4.197580\n",
              "2010-11-18    5.978000    4.679000    4.209580\n",
              "2010-11-19    6.198000    4.749400    4.223900\n",
              "2010-11-22    6.680000    4.837133    4.246780\n",
              "2010-11-23    6.914000    4.932667    4.277520\n",
              "...                ...         ...         ...\n",
              "2021-05-14  589.739990  686.771332  725.373098\n",
              "2021-05-17  576.830017  682.963999  724.642798\n",
              "2021-05-18  577.869995  679.172333  724.018098\n",
              "2021-05-19  563.460022  675.588668  723.192899\n",
              "2021-05-20  586.780029  672.354669  722.442999\n",
              "\n",
              "[2644 rows x 3 columns]"
            ]
          },
          "metadata": {
            "tags": []
          },
          "execution_count": 86
        }
      ]
    },
    {
      "cell_type": "code",
      "metadata": {
        "id": "wSBDimuArT_c"
      },
      "source": [
        "def buy_sell(data):\n",
        "  sig_price_buy = []\n",
        "  sig_price_sell = []\n",
        "  flag = False\n",
        "\n",
        "  for i in range(len(data)):\n",
        "    if data['SMA30'][i] > data['SMA100'][i]:\n",
        "      if not flag:\n",
        "        sig_price_buy.append(data['TSLA'][i])\n",
        "        sig_price_sell.append(np.nan)\n",
        "        flag = True\n",
        "      else:\n",
        "        sig_price_buy.append(np.nan)\n",
        "        sig_price_sell.append(np.nan)\n",
        "    elif data['SMA30'][i] < data['SMA100'][i]:\n",
        "      if flag:\n",
        "        sig_price_buy.append(np.nan)\n",
        "        sig_price_sell.append(data['TSLA'][i])\n",
        "        flag = False\n",
        "      else:\n",
        "        sig_price_buy.append(np.nan)\n",
        "        sig_price_sell.append(np.nan)\n",
        "    else:\n",
        "        sig_price_buy.append(np.nan)\n",
        "        sig_price_sell.append(np.nan)\n",
        "\n",
        "  return(sig_price_buy, sig_price_sell)"
      ],
      "execution_count": null,
      "outputs": []
    },
    {
      "cell_type": "code",
      "metadata": {
        "id": "8ZsRagtYsv4I"
      },
      "source": [
        "buy_sell = buy_sell(data)\n",
        "data['Buy_Signal_Price'] = buy_sell[0]\n",
        "data['Sell_Signal_Price'] = buy_sell[1]"
      ],
      "execution_count": null,
      "outputs": []
    },
    {
      "cell_type": "code",
      "metadata": {
        "colab": {
          "base_uri": "https://localhost:8080/",
          "height": 450
        },
        "id": "GR5fHBnitD97",
        "outputId": "4ee69fa6-5cb9-4a4c-e933-9f12d572c455"
      },
      "source": [
        "data"
      ],
      "execution_count": null,
      "outputs": [
        {
          "output_type": "execute_result",
          "data": {
            "text/html": [
              "<div>\n",
              "<style scoped>\n",
              "    .dataframe tbody tr th:only-of-type {\n",
              "        vertical-align: middle;\n",
              "    }\n",
              "\n",
              "    .dataframe tbody tr th {\n",
              "        vertical-align: top;\n",
              "    }\n",
              "\n",
              "    .dataframe thead th {\n",
              "        text-align: right;\n",
              "    }\n",
              "</style>\n",
              "<table border=\"1\" class=\"dataframe\">\n",
              "  <thead>\n",
              "    <tr style=\"text-align: right;\">\n",
              "      <th></th>\n",
              "      <th>TSLA</th>\n",
              "      <th>SMA30</th>\n",
              "      <th>SMA100</th>\n",
              "      <th>Buy_Signal_Price</th>\n",
              "      <th>Sell_Signal_Price</th>\n",
              "    </tr>\n",
              "    <tr>\n",
              "      <th>Date</th>\n",
              "      <th></th>\n",
              "      <th></th>\n",
              "      <th></th>\n",
              "      <th></th>\n",
              "      <th></th>\n",
              "    </tr>\n",
              "  </thead>\n",
              "  <tbody>\n",
              "    <tr>\n",
              "      <th>2010-11-17</th>\n",
              "      <td>5.898000</td>\n",
              "      <td>4.615933</td>\n",
              "      <td>4.197580</td>\n",
              "      <td>5.898</td>\n",
              "      <td>NaN</td>\n",
              "    </tr>\n",
              "    <tr>\n",
              "      <th>2010-11-18</th>\n",
              "      <td>5.978000</td>\n",
              "      <td>4.679000</td>\n",
              "      <td>4.209580</td>\n",
              "      <td>NaN</td>\n",
              "      <td>NaN</td>\n",
              "    </tr>\n",
              "    <tr>\n",
              "      <th>2010-11-19</th>\n",
              "      <td>6.198000</td>\n",
              "      <td>4.749400</td>\n",
              "      <td>4.223900</td>\n",
              "      <td>NaN</td>\n",
              "      <td>NaN</td>\n",
              "    </tr>\n",
              "    <tr>\n",
              "      <th>2010-11-22</th>\n",
              "      <td>6.680000</td>\n",
              "      <td>4.837133</td>\n",
              "      <td>4.246780</td>\n",
              "      <td>NaN</td>\n",
              "      <td>NaN</td>\n",
              "    </tr>\n",
              "    <tr>\n",
              "      <th>2010-11-23</th>\n",
              "      <td>6.914000</td>\n",
              "      <td>4.932667</td>\n",
              "      <td>4.277520</td>\n",
              "      <td>NaN</td>\n",
              "      <td>NaN</td>\n",
              "    </tr>\n",
              "    <tr>\n",
              "      <th>...</th>\n",
              "      <td>...</td>\n",
              "      <td>...</td>\n",
              "      <td>...</td>\n",
              "      <td>...</td>\n",
              "      <td>...</td>\n",
              "    </tr>\n",
              "    <tr>\n",
              "      <th>2021-05-14</th>\n",
              "      <td>589.739990</td>\n",
              "      <td>686.771332</td>\n",
              "      <td>725.373098</td>\n",
              "      <td>NaN</td>\n",
              "      <td>NaN</td>\n",
              "    </tr>\n",
              "    <tr>\n",
              "      <th>2021-05-17</th>\n",
              "      <td>576.830017</td>\n",
              "      <td>682.963999</td>\n",
              "      <td>724.642798</td>\n",
              "      <td>NaN</td>\n",
              "      <td>NaN</td>\n",
              "    </tr>\n",
              "    <tr>\n",
              "      <th>2021-05-18</th>\n",
              "      <td>577.869995</td>\n",
              "      <td>679.172333</td>\n",
              "      <td>724.018098</td>\n",
              "      <td>NaN</td>\n",
              "      <td>NaN</td>\n",
              "    </tr>\n",
              "    <tr>\n",
              "      <th>2021-05-19</th>\n",
              "      <td>563.460022</td>\n",
              "      <td>675.588668</td>\n",
              "      <td>723.192899</td>\n",
              "      <td>NaN</td>\n",
              "      <td>NaN</td>\n",
              "    </tr>\n",
              "    <tr>\n",
              "      <th>2021-05-20</th>\n",
              "      <td>586.780029</td>\n",
              "      <td>672.354669</td>\n",
              "      <td>722.442999</td>\n",
              "      <td>NaN</td>\n",
              "      <td>NaN</td>\n",
              "    </tr>\n",
              "  </tbody>\n",
              "</table>\n",
              "<p>2644 rows × 5 columns</p>\n",
              "</div>"
            ],
            "text/plain": [
              "                  TSLA       SMA30  ...  Buy_Signal_Price  Sell_Signal_Price\n",
              "Date                                ...                                     \n",
              "2010-11-17    5.898000    4.615933  ...             5.898                NaN\n",
              "2010-11-18    5.978000    4.679000  ...               NaN                NaN\n",
              "2010-11-19    6.198000    4.749400  ...               NaN                NaN\n",
              "2010-11-22    6.680000    4.837133  ...               NaN                NaN\n",
              "2010-11-23    6.914000    4.932667  ...               NaN                NaN\n",
              "...                ...         ...  ...               ...                ...\n",
              "2021-05-14  589.739990  686.771332  ...               NaN                NaN\n",
              "2021-05-17  576.830017  682.963999  ...               NaN                NaN\n",
              "2021-05-18  577.869995  679.172333  ...               NaN                NaN\n",
              "2021-05-19  563.460022  675.588668  ...               NaN                NaN\n",
              "2021-05-20  586.780029  672.354669  ...               NaN                NaN\n",
              "\n",
              "[2644 rows x 5 columns]"
            ]
          },
          "metadata": {
            "tags": []
          },
          "execution_count": 89
        }
      ]
    },
    {
      "cell_type": "code",
      "metadata": {
        "colab": {
          "base_uri": "https://localhost:8080/",
          "height": 558
        },
        "id": "qFezfFeitJ3h",
        "outputId": "221b0cc9-4ff7-49ba-d0ba-52948e42eec6"
      },
      "source": [
        "plt.figure(figsize=(15, 8))\n",
        "plt.plot(data['TSLA'], label='TSLA', alpha=0.35)\n",
        "plt.plot(data['SMA30'], label='SMA30', alpha=0.35)\n",
        "plt.plot(data['SMA100'], label='SMA100', alpha=0.35)\n",
        "plt.scatter(data.index, data['Buy_Signal_Price'], label='Buy', marker='^', color='green')\n",
        "plt.scatter(data.index, data['Sell_Signal_Price'], label='Sell', marker='v', color='red')\n",
        "plt.title('TSLA Close Price History Buy & Sell Signals')\n",
        "plt.xlabel(f'{start.strftime(\"%B %d, %Y\")} - {datetime.datetime.now().strftime(\"%B %d, %Y\")}')\n",
        "plt.ylabel('Close Price USD')\n",
        "plt.legend(loc='upper left')\n",
        "plt.show()"
      ],
      "execution_count": null,
      "outputs": [
        {
          "output_type": "display_data",
          "data": {
            "image/png": "[encoded data removed]",
            "text/plain": [
              "<Figure size 1080x576 with 1 Axes>"
            ]
          },
          "metadata": {
            "tags": []
          }
        }
      ]
    },
    {
      "cell_type": "code",
      "metadata": {
        "id": "ltA1GU5Xd7NB"
      },
      "source": [
        ""
      ],
      "execution_count": null,
      "outputs": []
    }
  ]
}