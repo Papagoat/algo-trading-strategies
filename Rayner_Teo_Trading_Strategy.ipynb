{
  "nbformat": 4,
  "nbformat_minor": 0,
  "metadata": {
    "colab": {
      "name": "Rayner Teo Trading Strategy",
      "provenance": [],
      "collapsed_sections": [],
      "authorship_tag": "ABX9TyPlpoxXti8rzUoso/puy5rh",
      "include_colab_link": true
    },
    "kernelspec": {
      "name": "python3",
      "display_name": "Python 3"
    },
    "language_info": {
      "name": "python"
    }
  },
  "cells": [
    {
      "cell_type": "markdown",
      "metadata": {
        "id": "view-in-github",
        "colab_type": "text"
      },
      "source": [
        "<a href=\"https://colab.research.google.com/github/Papagoat/algo-trading-strategies/blob/main/Rayner_Teo_Trading_Strategy.ipynb\" target=\"_parent\"><img src=\"https://colab.research.google.com/assets/colab-badge.svg\" alt=\"Open In Colab\"/></a>"
      ]
    },
    {
      "cell_type": "code",
      "metadata": {
        "colab": {
          "base_uri": "https://localhost:8080/"
        },
        "id": "3y4X0GVp4YfG",
        "outputId": "689b9a5d-e9fb-497b-9ae1-cc665c51cb87"
      },
      "source": [
        "pip install yfinance"
      ],
      "execution_count": null,
      "outputs": [
        {
          "output_type": "stream",
          "text": [
            "Requirement already satisfied: yfinance in /usr/local/lib/python3.7/dist-packages (0.1.59)\n",
            "Requirement already satisfied: multitasking>=0.0.7 in /usr/local/lib/python3.7/dist-packages (from yfinance) (0.0.9)\n",
            "Requirement already satisfied: lxml>=4.5.1 in /usr/local/lib/python3.7/dist-packages (from yfinance) (4.6.3)\n",
            "Requirement already satisfied: numpy>=1.15 in /usr/local/lib/python3.7/dist-packages (from yfinance) (1.19.5)\n",
            "Requirement already satisfied: pandas>=0.24 in /usr/local/lib/python3.7/dist-packages (from yfinance) (1.1.5)\n",
            "Requirement already satisfied: requests>=2.20 in /usr/local/lib/python3.7/dist-packages (from yfinance) (2.23.0)\n",
            "Requirement already satisfied: python-dateutil>=2.7.3 in /usr/local/lib/python3.7/dist-packages (from pandas>=0.24->yfinance) (2.8.1)\n",
            "Requirement already satisfied: pytz>=2017.2 in /usr/local/lib/python3.7/dist-packages (from pandas>=0.24->yfinance) (2018.9)\n",
            "Requirement already satisfied: urllib3!=1.25.0,!=1.25.1,<1.26,>=1.21.1 in /usr/local/lib/python3.7/dist-packages (from requests>=2.20->yfinance) (1.24.3)\n",
            "Requirement already satisfied: idna<3,>=2.5 in /usr/local/lib/python3.7/dist-packages (from requests>=2.20->yfinance) (2.10)\n",
            "Requirement already satisfied: chardet<4,>=3.0.2 in /usr/local/lib/python3.7/dist-packages (from requests>=2.20->yfinance) (3.0.4)\n",
            "Requirement already satisfied: certifi>=2017.4.17 in /usr/local/lib/python3.7/dist-packages (from requests>=2.20->yfinance) (2020.12.5)\n",
            "Requirement already satisfied: six>=1.5 in /usr/local/lib/python3.7/dist-packages (from python-dateutil>=2.7.3->pandas>=0.24->yfinance) (1.15.0)\n"
          ],
          "name": "stdout"
        }
      ]
    },
    {
      "cell_type": "code",
      "metadata": {
        "id": "5nSfyOhphebg"
      },
      "source": [
        "import pandas as pd\n",
        "import numpy as np\n",
        "import datetime as datetime\n",
        "import matplotlib.pyplot as plt\n",
        "plt.style.use('fivethirtyeight')\n",
        "\n",
        "import yfinance as yf\n",
        "import time\n",
        "import requests\n",
        "import io"
      ],
      "execution_count": null,
      "outputs": []
    },
    {
      "cell_type": "code",
      "metadata": {
        "id": "Y-oxaoM64gk3"
      },
      "source": [
        "start = datetime.datetime(2010,5,18)\n",
        "# end = datetime.datetime(2021,5,17)\n",
        "end = datetime.datetime.now()\n",
        "# start = end - datetime.timedelta(days=200)"
      ],
      "execution_count": null,
      "outputs": []
    },
    {
      "cell_type": "code",
      "metadata": {
        "id": "-8hUTA7E4nA7",
        "colab": {
          "base_uri": "https://localhost:8080/"
        },
        "outputId": "9eaa55d7-13f0-4459-c8bd-703136165901"
      },
      "source": [
        "df = yf.download(tickers=\"TSLA\",start=start, end=end)\n",
        "# df = yf.Ticker('BTC-USD').history(period='200d', interval='1h')\n",
        "# df"
      ],
      "execution_count": null,
      "outputs": [
        {
          "output_type": "stream",
          "text": [
            "\r[*********************100%***********************]  1 of 1 completed\n"
          ],
          "name": "stdout"
        }
      ]
    },
    {
      "cell_type": "code",
      "metadata": {
        "id": "yusKdo1LR2ly"
      },
      "source": [
        "df['MA200'] = df['Adj Close'].rolling(window=200).mean()\n",
        "# df = df.dropna()\n",
        "# df"
      ],
      "execution_count": null,
      "outputs": []
    },
    {
      "cell_type": "code",
      "metadata": {
        "colab": {
          "base_uri": "https://localhost:8080/",
          "height": 282
        },
        "id": "5DIDIPBLk4ek",
        "outputId": "6754e050-702b-4b3d-8f2e-4b3b24234f31"
      },
      "source": [
        "plt.plot(df['Adj Close'])\n",
        "plt.plot(df['MA200'])\n",
        "plt.show()"
      ],
      "execution_count": null,
      "outputs": [
        {
          "output_type": "display_data",
          "data": {
            "image/png": "[encoded data removed]",
            "text/plain": [
              "<Figure size 432x288 with 1 Axes>"
            ]
          },
          "metadata": {
            "tags": []
          }
        }
      ]
    },
    {
      "cell_type": "code",
      "metadata": {
        "id": "dPAllFNETOo8"
      },
      "source": [
        "pd.options.mode.chained_assignment = None"
      ],
      "execution_count": null,
      "outputs": []
    },
    {
      "cell_type": "code",
      "metadata": {
        "id": "8Aak8dk0S29A"
      },
      "source": [
        "df['price change'] = df['Adj Close'].pct_change()\n",
        "# df = df.dropna()\n",
        "# df"
      ],
      "execution_count": null,
      "outputs": []
    },
    {
      "cell_type": "code",
      "metadata": {
        "id": "JI0bU6PATTbI"
      },
      "source": [
        "df['Upmove'] = df['price change'].apply(lambda x: x if x > 0 else 0)"
      ],
      "execution_count": null,
      "outputs": []
    },
    {
      "cell_type": "code",
      "metadata": {
        "id": "qWR3UG2gUJ6O"
      },
      "source": [
        "df['Downmove'] = df['price change'].apply(lambda x: abs(x) if x < 0 else 0)"
      ],
      "execution_count": null,
      "outputs": []
    },
    {
      "cell_type": "code",
      "metadata": {
        "id": "8Wx1dZDuUZu5"
      },
      "source": [
        "df['Avg Up'] = df['Upmove'].ewm(span=19).mean()"
      ],
      "execution_count": null,
      "outputs": []
    },
    {
      "cell_type": "code",
      "metadata": {
        "id": "Wa6EbIkgVN6q"
      },
      "source": [
        "df['Avg Down'] = df['Downmove'].ewm(span=19).mean()"
      ],
      "execution_count": null,
      "outputs": []
    },
    {
      "cell_type": "code",
      "metadata": {
        "id": "GoMdgHB9VSUd"
      },
      "source": [
        "# df = df.dropna()\n",
        "# df"
      ],
      "execution_count": null,
      "outputs": []
    },
    {
      "cell_type": "code",
      "metadata": {
        "id": "bUcGjNLiVaXc"
      },
      "source": [
        "df['RS'] = df['Avg Up']/df['Avg Down']"
      ],
      "execution_count": null,
      "outputs": []
    },
    {
      "cell_type": "code",
      "metadata": {
        "id": "Z662RyU2Vkds"
      },
      "source": [
        "df['RSI'] = df['RS'].apply(lambda x: 100 - (100/(x+1)))"
      ],
      "execution_count": null,
      "outputs": []
    },
    {
      "cell_type": "code",
      "metadata": {
        "id": "yI0quVPRV7pC"
      },
      "source": [
        "df.loc[(df['Adj Close'] > df['MA200']) & (df['RSI'] < 30), 'Buy'] = 'Yes'"
      ],
      "execution_count": null,
      "outputs": []
    },
    {
      "cell_type": "code",
      "metadata": {
        "id": "gjb2iyPCWND4"
      },
      "source": [
        "df.loc[(df['Adj Close'] < df['MA200']) | (df['RSI'] > 30), 'Buy'] = 'No'"
      ],
      "execution_count": null,
      "outputs": []
    },
    {
      "cell_type": "code",
      "metadata": {
        "colab": {
          "base_uri": "https://localhost:8080/",
          "height": 657
        },
        "id": "4p-BMaOwWZSf",
        "outputId": "aaca118b-9183-4d31-d3d4-1adf4028af59"
      },
      "source": [
        "df = df.dropna()\n",
        "df"
      ],
      "execution_count": null,
      "outputs": [
        {
          "output_type": "execute_result",
          "data": {
            "text/html": [
              "<div>\n",
              "<style scoped>\n",
              "    .dataframe tbody tr th:only-of-type {\n",
              "        vertical-align: middle;\n",
              "    }\n",
              "\n",
              "    .dataframe tbody tr th {\n",
              "        vertical-align: top;\n",
              "    }\n",
              "\n",
              "    .dataframe thead th {\n",
              "        text-align: right;\n",
              "    }\n",
              "</style>\n",
              "<table border=\"1\" class=\"dataframe\">\n",
              "  <thead>\n",
              "    <tr style=\"text-align: right;\">\n",
              "      <th></th>\n",
              "      <th>Open</th>\n",
              "      <th>High</th>\n",
              "      <th>Low</th>\n",
              "      <th>Close</th>\n",
              "      <th>Adj Close</th>\n",
              "      <th>Volume</th>\n",
              "      <th>MA200</th>\n",
              "      <th>price change</th>\n",
              "      <th>Upmove</th>\n",
              "      <th>Downmove</th>\n",
              "      <th>Avg Up</th>\n",
              "      <th>Avg Down</th>\n",
              "      <th>RS</th>\n",
              "      <th>RSI</th>\n",
              "      <th>Buy</th>\n",
              "    </tr>\n",
              "    <tr>\n",
              "      <th>Date</th>\n",
              "      <th></th>\n",
              "      <th></th>\n",
              "      <th></th>\n",
              "      <th></th>\n",
              "      <th></th>\n",
              "      <th></th>\n",
              "      <th></th>\n",
              "      <th></th>\n",
              "      <th></th>\n",
              "      <th></th>\n",
              "      <th></th>\n",
              "      <th></th>\n",
              "      <th></th>\n",
              "      <th></th>\n",
              "      <th></th>\n",
              "    </tr>\n",
              "  </thead>\n",
              "  <tbody>\n",
              "    <tr>\n",
              "      <th>2011-04-12</th>\n",
              "      <td>5.016000</td>\n",
              "      <td>5.042000</td>\n",
              "      <td>4.860000</td>\n",
              "      <td>4.930000</td>\n",
              "      <td>4.930000</td>\n",
              "      <td>6787000</td>\n",
              "      <td>4.745270</td>\n",
              "      <td>-0.024535</td>\n",
              "      <td>0.000000</td>\n",
              "      <td>0.024535</td>\n",
              "      <td>0.014737</td>\n",
              "      <td>0.015317</td>\n",
              "      <td>0.962133</td>\n",
              "      <td>49.035062</td>\n",
              "      <td>No</td>\n",
              "    </tr>\n",
              "    <tr>\n",
              "      <th>2011-04-13</th>\n",
              "      <td>5.026000</td>\n",
              "      <td>5.138000</td>\n",
              "      <td>4.962000</td>\n",
              "      <td>4.986000</td>\n",
              "      <td>4.986000</td>\n",
              "      <td>6057500</td>\n",
              "      <td>4.746310</td>\n",
              "      <td>0.011359</td>\n",
              "      <td>0.011359</td>\n",
              "      <td>0.000000</td>\n",
              "      <td>0.014399</td>\n",
              "      <td>0.013785</td>\n",
              "      <td>1.044535</td>\n",
              "      <td>51.089129</td>\n",
              "      <td>No</td>\n",
              "    </tr>\n",
              "    <tr>\n",
              "      <th>2011-04-14</th>\n",
              "      <td>4.974000</td>\n",
              "      <td>5.056000</td>\n",
              "      <td>4.840000</td>\n",
              "      <td>5.028000</td>\n",
              "      <td>5.028000</td>\n",
              "      <td>4917000</td>\n",
              "      <td>4.747620</td>\n",
              "      <td>0.008424</td>\n",
              "      <td>0.008424</td>\n",
              "      <td>0.000000</td>\n",
              "      <td>0.013801</td>\n",
              "      <td>0.012406</td>\n",
              "      <td>1.112432</td>\n",
              "      <td>52.661192</td>\n",
              "      <td>No</td>\n",
              "    </tr>\n",
              "    <tr>\n",
              "      <th>2011-04-15</th>\n",
              "      <td>5.130000</td>\n",
              "      <td>5.236000</td>\n",
              "      <td>5.082000</td>\n",
              "      <td>5.116000</td>\n",
              "      <td>5.116000</td>\n",
              "      <td>4717500</td>\n",
              "      <td>4.751240</td>\n",
              "      <td>0.017502</td>\n",
              "      <td>0.017502</td>\n",
              "      <td>0.000000</td>\n",
              "      <td>0.014171</td>\n",
              "      <td>0.011166</td>\n",
              "      <td>1.269178</td>\n",
              "      <td>55.931187</td>\n",
              "      <td>No</td>\n",
              "    </tr>\n",
              "    <tr>\n",
              "      <th>2011-04-18</th>\n",
              "      <td>5.026000</td>\n",
              "      <td>5.124000</td>\n",
              "      <td>4.872000</td>\n",
              "      <td>5.006000</td>\n",
              "      <td>5.006000</td>\n",
              "      <td>5169500</td>\n",
              "      <td>4.757070</td>\n",
              "      <td>-0.021501</td>\n",
              "      <td>0.000000</td>\n",
              "      <td>0.021501</td>\n",
              "      <td>0.012754</td>\n",
              "      <td>0.012199</td>\n",
              "      <td>1.045487</td>\n",
              "      <td>51.111897</td>\n",
              "      <td>No</td>\n",
              "    </tr>\n",
              "    <tr>\n",
              "      <th>...</th>\n",
              "      <td>...</td>\n",
              "      <td>...</td>\n",
              "      <td>...</td>\n",
              "      <td>...</td>\n",
              "      <td>...</td>\n",
              "      <td>...</td>\n",
              "      <td>...</td>\n",
              "      <td>...</td>\n",
              "      <td>...</td>\n",
              "      <td>...</td>\n",
              "      <td>...</td>\n",
              "      <td>...</td>\n",
              "      <td>...</td>\n",
              "      <td>...</td>\n",
              "      <td>...</td>\n",
              "    </tr>\n",
              "    <tr>\n",
              "      <th>2021-05-14</th>\n",
              "      <td>583.409973</td>\n",
              "      <td>592.869995</td>\n",
              "      <td>570.460022</td>\n",
              "      <td>589.739990</td>\n",
              "      <td>589.739990</td>\n",
              "      <td>33230600</td>\n",
              "      <td>584.012019</td>\n",
              "      <td>0.031573</td>\n",
              "      <td>0.031573</td>\n",
              "      <td>0.000000</td>\n",
              "      <td>0.009072</td>\n",
              "      <td>0.019513</td>\n",
              "      <td>0.464948</td>\n",
              "      <td>31.738192</td>\n",
              "      <td>No</td>\n",
              "    </tr>\n",
              "    <tr>\n",
              "      <th>2021-05-17</th>\n",
              "      <td>575.549988</td>\n",
              "      <td>589.729980</td>\n",
              "      <td>561.200012</td>\n",
              "      <td>576.830017</td>\n",
              "      <td>576.830017</td>\n",
              "      <td>32390400</td>\n",
              "      <td>585.408679</td>\n",
              "      <td>-0.021891</td>\n",
              "      <td>0.000000</td>\n",
              "      <td>0.021891</td>\n",
              "      <td>0.008165</td>\n",
              "      <td>0.019751</td>\n",
              "      <td>0.413415</td>\n",
              "      <td>29.249354</td>\n",
              "      <td>No</td>\n",
              "    </tr>\n",
              "    <tr>\n",
              "      <th>2021-05-18</th>\n",
              "      <td>568.000000</td>\n",
              "      <td>596.250000</td>\n",
              "      <td>563.380005</td>\n",
              "      <td>577.869995</td>\n",
              "      <td>577.869995</td>\n",
              "      <td>36830600</td>\n",
              "      <td>586.867269</td>\n",
              "      <td>0.001803</td>\n",
              "      <td>0.001803</td>\n",
              "      <td>0.000000</td>\n",
              "      <td>0.007529</td>\n",
              "      <td>0.017776</td>\n",
              "      <td>0.423557</td>\n",
              "      <td>29.753445</td>\n",
              "      <td>No</td>\n",
              "    </tr>\n",
              "    <tr>\n",
              "      <th>2021-05-19</th>\n",
              "      <td>552.549988</td>\n",
              "      <td>566.210022</td>\n",
              "      <td>546.979980</td>\n",
              "      <td>563.460022</td>\n",
              "      <td>563.460022</td>\n",
              "      <td>39471500</td>\n",
              "      <td>588.199569</td>\n",
              "      <td>-0.024936</td>\n",
              "      <td>0.000000</td>\n",
              "      <td>0.024936</td>\n",
              "      <td>0.006776</td>\n",
              "      <td>0.018492</td>\n",
              "      <td>0.366440</td>\n",
              "      <td>26.817119</td>\n",
              "      <td>No</td>\n",
              "    </tr>\n",
              "    <tr>\n",
              "      <th>2021-05-20</th>\n",
              "      <td>575.000000</td>\n",
              "      <td>588.784973</td>\n",
              "      <td>571.071289</td>\n",
              "      <td>586.780029</td>\n",
              "      <td>586.780029</td>\n",
              "      <td>30171821</td>\n",
              "      <td>589.646469</td>\n",
              "      <td>0.041387</td>\n",
              "      <td>0.041387</td>\n",
              "      <td>0.000000</td>\n",
              "      <td>0.010237</td>\n",
              "      <td>0.016642</td>\n",
              "      <td>0.615124</td>\n",
              "      <td>38.085235</td>\n",
              "      <td>No</td>\n",
              "    </tr>\n",
              "  </tbody>\n",
              "</table>\n",
              "<p>2544 rows × 15 columns</p>\n",
              "</div>"
            ],
            "text/plain": [
              "                  Open        High         Low  ...        RS        RSI  Buy\n",
              "Date                                            ...                          \n",
              "2011-04-12    5.016000    5.042000    4.860000  ...  0.962133  49.035062   No\n",
              "2011-04-13    5.026000    5.138000    4.962000  ...  1.044535  51.089129   No\n",
              "2011-04-14    4.974000    5.056000    4.840000  ...  1.112432  52.661192   No\n",
              "2011-04-15    5.130000    5.236000    5.082000  ...  1.269178  55.931187   No\n",
              "2011-04-18    5.026000    5.124000    4.872000  ...  1.045487  51.111897   No\n",
              "...                ...         ...         ...  ...       ...        ...  ...\n",
              "2021-05-14  583.409973  592.869995  570.460022  ...  0.464948  31.738192   No\n",
              "2021-05-17  575.549988  589.729980  561.200012  ...  0.413415  29.249354   No\n",
              "2021-05-18  568.000000  596.250000  563.380005  ...  0.423557  29.753445   No\n",
              "2021-05-19  552.549988  566.210022  546.979980  ...  0.366440  26.817119   No\n",
              "2021-05-20  575.000000  588.784973  571.071289  ...  0.615124  38.085235   No\n",
              "\n",
              "[2544 rows x 15 columns]"
            ]
          },
          "metadata": {
            "tags": []
          },
          "execution_count": 206
        }
      ]
    },
    {
      "cell_type": "code",
      "metadata": {
        "id": "kh2jR0l6j5sM"
      },
      "source": [
        "def buy_sell(df):\n",
        "  sig_price_buy = []\n",
        "  sig_price_sell = []\n",
        "  flag = False\n",
        "\n",
        "  for i in range(len(df)):\n",
        "    if df['Buy'][i] == 'Yes':\n",
        "      if not flag:\n",
        "        sig_price_buy.append(df['Adj Close'][i])\n",
        "        sig_price_sell.append(np.nan)\n",
        "        flag = True\n",
        "      else:\n",
        "        sig_price_buy.append(np.nan)\n",
        "        sig_price_sell.append(np.nan)\n",
        "    # elif df['Buy'][i] == 'No':\n",
        "    else:\n",
        "      if flag:\n",
        "        sig_price_buy.append(np.nan)\n",
        "        sig_price_sell.append(df['Adj Close'][i])\n",
        "        flag = False\n",
        "      else:\n",
        "        sig_price_buy.append(np.nan)\n",
        "        sig_price_sell.append(np.nan)\n",
        "    # else:\n",
        "    #     sig_price_buy.append(np.nan)\n",
        "    #     sig_price_sell.append(np.nan)\n",
        "\n",
        "  return(sig_price_buy, sig_price_sell)"
      ],
      "execution_count": null,
      "outputs": []
    },
    {
      "cell_type": "code",
      "metadata": {
        "id": "-Sth_QB5kOcA",
        "colab": {
          "base_uri": "https://localhost:8080/"
        },
        "outputId": "1af42b67-cda0-4c8c-964a-2a1b1d999c88"
      },
      "source": [
        "buy_sell = buy_sell(df)\n",
        "df['Buy_Signal_Price'] = buy_sell[0]\n",
        "df['Sell_Signal_Price'] = buy_sell[1]\n",
        "if df[\"Buy\"].iloc[-1] == 'Yes' and df['Buy_Signal_Price'].iloc[-1] > 0:\n",
        "  print('Buy')\n",
        "elif df[\"Buy\"].iloc[-1] == 'No' and df['Sell_Signal_Price'].iloc[-1] > 0:\n",
        "  print('Sell')\n",
        "else:\n",
        "  print('NA')\n"
      ],
      "execution_count": null,
      "outputs": [
        {
          "output_type": "stream",
          "text": [
            "NA\n"
          ],
          "name": "stdout"
        }
      ]
    },
    {
      "cell_type": "code",
      "metadata": {
        "colab": {
          "base_uri": "https://localhost:8080/",
          "height": 885
        },
        "id": "FaGqD6MHOLs_",
        "outputId": "12634000-8d34-40aa-fbb2-f05c445ea72f"
      },
      "source": [
        "pd.set_option('display.max_rows', 20)\n",
        "# df = df.dropna()\n",
        "df[(df['Buy'] == 'No') & (df['Sell_Signal_Price'] > 0)]"
      ],
      "execution_count": null,
      "outputs": [
        {
          "output_type": "execute_result",
          "data": {
            "text/html": [
              "<div>\n",
              "<style scoped>\n",
              "    .dataframe tbody tr th:only-of-type {\n",
              "        vertical-align: middle;\n",
              "    }\n",
              "\n",
              "    .dataframe tbody tr th {\n",
              "        vertical-align: top;\n",
              "    }\n",
              "\n",
              "    .dataframe thead th {\n",
              "        text-align: right;\n",
              "    }\n",
              "</style>\n",
              "<table border=\"1\" class=\"dataframe\">\n",
              "  <thead>\n",
              "    <tr style=\"text-align: right;\">\n",
              "      <th></th>\n",
              "      <th>Open</th>\n",
              "      <th>High</th>\n",
              "      <th>Low</th>\n",
              "      <th>Close</th>\n",
              "      <th>Adj Close</th>\n",
              "      <th>Volume</th>\n",
              "      <th>MA200</th>\n",
              "      <th>price change</th>\n",
              "      <th>Upmove</th>\n",
              "      <th>Downmove</th>\n",
              "      <th>Avg Up</th>\n",
              "      <th>Avg Down</th>\n",
              "      <th>RS</th>\n",
              "      <th>RSI</th>\n",
              "      <th>Buy</th>\n",
              "      <th>Buy_Signal_Price</th>\n",
              "      <th>Sell_Signal_Price</th>\n",
              "    </tr>\n",
              "    <tr>\n",
              "      <th>Date</th>\n",
              "      <th></th>\n",
              "      <th></th>\n",
              "      <th></th>\n",
              "      <th></th>\n",
              "      <th></th>\n",
              "      <th></th>\n",
              "      <th></th>\n",
              "      <th></th>\n",
              "      <th></th>\n",
              "      <th></th>\n",
              "      <th></th>\n",
              "      <th></th>\n",
              "      <th></th>\n",
              "      <th></th>\n",
              "      <th></th>\n",
              "      <th></th>\n",
              "      <th></th>\n",
              "    </tr>\n",
              "  </thead>\n",
              "  <tbody>\n",
              "    <tr>\n",
              "      <th>2011-12-20</th>\n",
              "      <td>5.610000</td>\n",
              "      <td>5.690000</td>\n",
              "      <td>5.544000</td>\n",
              "      <td>5.580000</td>\n",
              "      <td>5.580000</td>\n",
              "      <td>4216500</td>\n",
              "      <td>5.454120</td>\n",
              "      <td>0.005405</td>\n",
              "      <td>0.005405</td>\n",
              "      <td>0.000000</td>\n",
              "      <td>0.006483</td>\n",
              "      <td>0.015043</td>\n",
              "      <td>0.430954</td>\n",
              "      <td>30.116530</td>\n",
              "      <td>No</td>\n",
              "      <td>NaN</td>\n",
              "      <td>5.580000</td>\n",
              "    </tr>\n",
              "    <tr>\n",
              "      <th>2011-12-22</th>\n",
              "      <td>5.520000</td>\n",
              "      <td>5.610000</td>\n",
              "      <td>5.460000</td>\n",
              "      <td>5.554000</td>\n",
              "      <td>5.554000</td>\n",
              "      <td>5047000</td>\n",
              "      <td>5.460730</td>\n",
              "      <td>0.007254</td>\n",
              "      <td>0.007254</td>\n",
              "      <td>0.000000</td>\n",
              "      <td>0.005977</td>\n",
              "      <td>0.013249</td>\n",
              "      <td>0.451080</td>\n",
              "      <td>31.085835</td>\n",
              "      <td>No</td>\n",
              "      <td>NaN</td>\n",
              "      <td>5.554000</td>\n",
              "    </tr>\n",
              "    <tr>\n",
              "      <th>2013-11-11</th>\n",
              "      <td>28.200001</td>\n",
              "      <td>29.084000</td>\n",
              "      <td>27.420000</td>\n",
              "      <td>28.940001</td>\n",
              "      <td>28.940001</td>\n",
              "      <td>69988000</td>\n",
              "      <td>20.984750</td>\n",
              "      <td>0.048931</td>\n",
              "      <td>0.048931</td>\n",
              "      <td>0.000000</td>\n",
              "      <td>0.015088</td>\n",
              "      <td>0.025129</td>\n",
              "      <td>0.600432</td>\n",
              "      <td>37.516874</td>\n",
              "      <td>No</td>\n",
              "      <td>NaN</td>\n",
              "      <td>28.940001</td>\n",
              "    </tr>\n",
              "    <tr>\n",
              "      <th>2013-11-19</th>\n",
              "      <td>23.886000</td>\n",
              "      <td>25.799999</td>\n",
              "      <td>23.844000</td>\n",
              "      <td>25.218000</td>\n",
              "      <td>25.218000</td>\n",
              "      <td>99081000</td>\n",
              "      <td>21.554820</td>\n",
              "      <td>0.037095</td>\n",
              "      <td>0.037095</td>\n",
              "      <td>0.000000</td>\n",
              "      <td>0.012157</td>\n",
              "      <td>0.027230</td>\n",
              "      <td>0.446438</td>\n",
              "      <td>30.864648</td>\n",
              "      <td>No</td>\n",
              "      <td>NaN</td>\n",
              "      <td>25.218000</td>\n",
              "    </tr>\n",
              "    <tr>\n",
              "      <th>2013-11-27</th>\n",
              "      <td>24.261999</td>\n",
              "      <td>25.389999</td>\n",
              "      <td>23.903999</td>\n",
              "      <td>25.388000</td>\n",
              "      <td>25.388000</td>\n",
              "      <td>61838000</td>\n",
              "      <td>22.055040</td>\n",
              "      <td>0.053444</td>\n",
              "      <td>0.053444</td>\n",
              "      <td>0.000000</td>\n",
              "      <td>0.012341</td>\n",
              "      <td>0.017847</td>\n",
              "      <td>0.691507</td>\n",
              "      <td>40.881133</td>\n",
              "      <td>No</td>\n",
              "      <td>NaN</td>\n",
              "      <td>25.388000</td>\n",
              "    </tr>\n",
              "    <tr>\n",
              "      <th>2014-05-09</th>\n",
              "      <td>35.972000</td>\n",
              "      <td>36.680000</td>\n",
              "      <td>35.444000</td>\n",
              "      <td>36.452000</td>\n",
              "      <td>36.452000</td>\n",
              "      <td>42476000</td>\n",
              "      <td>35.280830</td>\n",
              "      <td>0.020550</td>\n",
              "      <td>0.020550</td>\n",
              "      <td>0.000000</td>\n",
              "      <td>0.011274</td>\n",
              "      <td>0.021881</td>\n",
              "      <td>0.515226</td>\n",
              "      <td>34.003245</td>\n",
              "      <td>No</td>\n",
              "      <td>NaN</td>\n",
              "      <td>36.452000</td>\n",
              "    </tr>\n",
              "    <tr>\n",
              "      <th>2014-10-02</th>\n",
              "      <td>50.040001</td>\n",
              "      <td>50.557999</td>\n",
              "      <td>49.071999</td>\n",
              "      <td>50.284000</td>\n",
              "      <td>50.284000</td>\n",
              "      <td>44991000</td>\n",
              "      <td>43.258030</td>\n",
              "      <td>0.046537</td>\n",
              "      <td>0.046537</td>\n",
              "      <td>0.000000</td>\n",
              "      <td>0.008209</td>\n",
              "      <td>0.009085</td>\n",
              "      <td>0.903650</td>\n",
              "      <td>47.469327</td>\n",
              "      <td>No</td>\n",
              "      <td>NaN</td>\n",
              "      <td>50.284000</td>\n",
              "    </tr>\n",
              "    <tr>\n",
              "      <th>2014-10-15</th>\n",
              "      <td>44.000000</td>\n",
              "      <td>46.198002</td>\n",
              "      <td>43.464001</td>\n",
              "      <td>45.939999</td>\n",
              "      <td>45.939999</td>\n",
              "      <td>45736500</td>\n",
              "      <td>44.129560</td>\n",
              "      <td>0.011627</td>\n",
              "      <td>0.011627</td>\n",
              "      <td>0.000000</td>\n",
              "      <td>0.006996</td>\n",
              "      <td>0.014288</td>\n",
              "      <td>0.489637</td>\n",
              "      <td>32.869561</td>\n",
              "      <td>No</td>\n",
              "      <td>NaN</td>\n",
              "      <td>45.939999</td>\n",
              "    </tr>\n",
              "    <tr>\n",
              "      <th>2017-07-10</th>\n",
              "      <td>62.580002</td>\n",
              "      <td>63.588001</td>\n",
              "      <td>60.625999</td>\n",
              "      <td>63.209999</td>\n",
              "      <td>63.209999</td>\n",
              "      <td>69104500</td>\n",
              "      <td>52.012900</td>\n",
              "      <td>0.009035</td>\n",
              "      <td>0.009035</td>\n",
              "      <td>0.000000</td>\n",
              "      <td>0.007192</td>\n",
              "      <td>0.016610</td>\n",
              "      <td>0.432997</td>\n",
              "      <td>30.216182</td>\n",
              "      <td>No</td>\n",
              "      <td>NaN</td>\n",
              "      <td>63.209999</td>\n",
              "    </tr>\n",
              "    <tr>\n",
              "      <th>2017-10-31</th>\n",
              "      <td>64.045998</td>\n",
              "      <td>66.389999</td>\n",
              "      <td>64.036003</td>\n",
              "      <td>66.306000</td>\n",
              "      <td>66.306000</td>\n",
              "      <td>28361500</td>\n",
              "      <td>63.629000</td>\n",
              "      <td>0.035772</td>\n",
              "      <td>0.035772</td>\n",
              "      <td>0.000000</td>\n",
              "      <td>0.006590</td>\n",
              "      <td>0.008993</td>\n",
              "      <td>0.732775</td>\n",
              "      <td>42.289096</td>\n",
              "      <td>No</td>\n",
              "      <td>NaN</td>\n",
              "      <td>66.306000</td>\n",
              "    </tr>\n",
              "    <tr>\n",
              "      <th>2018-12-21</th>\n",
              "      <td>63.480000</td>\n",
              "      <td>64.694000</td>\n",
              "      <td>62.487999</td>\n",
              "      <td>63.953999</td>\n",
              "      <td>63.953999</td>\n",
              "      <td>40084000</td>\n",
              "      <td>62.561490</td>\n",
              "      <td>0.013920</td>\n",
              "      <td>0.013920</td>\n",
              "      <td>0.000000</td>\n",
              "      <td>0.007944</td>\n",
              "      <td>0.015635</td>\n",
              "      <td>0.508113</td>\n",
              "      <td>33.691986</td>\n",
              "      <td>No</td>\n",
              "      <td>NaN</td>\n",
              "      <td>63.953999</td>\n",
              "    </tr>\n",
              "    <tr>\n",
              "      <th>2020-03-18</th>\n",
              "      <td>77.800003</td>\n",
              "      <td>80.972000</td>\n",
              "      <td>70.101997</td>\n",
              "      <td>72.244003</td>\n",
              "      <td>72.244003</td>\n",
              "      <td>118931000</td>\n",
              "      <td>74.100210</td>\n",
              "      <td>-0.160344</td>\n",
              "      <td>0.000000</td>\n",
              "      <td>0.160344</td>\n",
              "      <td>0.011393</td>\n",
              "      <td>0.060810</td>\n",
              "      <td>0.187363</td>\n",
              "      <td>15.779790</td>\n",
              "      <td>No</td>\n",
              "      <td>NaN</td>\n",
              "      <td>72.244003</td>\n",
              "    </tr>\n",
              "    <tr>\n",
              "      <th>2021-02-24</th>\n",
              "      <td>711.849976</td>\n",
              "      <td>745.000000</td>\n",
              "      <td>694.169983</td>\n",
              "      <td>742.020020</td>\n",
              "      <td>742.020020</td>\n",
              "      <td>36767000</td>\n",
              "      <td>457.145199</td>\n",
              "      <td>0.061788</td>\n",
              "      <td>0.061788</td>\n",
              "      <td>0.000000</td>\n",
              "      <td>0.011504</td>\n",
              "      <td>0.017260</td>\n",
              "      <td>0.666548</td>\n",
              "      <td>39.995736</td>\n",
              "      <td>No</td>\n",
              "      <td>NaN</td>\n",
              "      <td>742.020020</td>\n",
              "    </tr>\n",
              "    <tr>\n",
              "      <th>2021-03-01</th>\n",
              "      <td>690.109985</td>\n",
              "      <td>719.000000</td>\n",
              "      <td>685.049988</td>\n",
              "      <td>718.429993</td>\n",
              "      <td>718.429993</td>\n",
              "      <td>27136200</td>\n",
              "      <td>465.114289</td>\n",
              "      <td>0.063553</td>\n",
              "      <td>0.063553</td>\n",
              "      <td>0.000000</td>\n",
              "      <td>0.014742</td>\n",
              "      <td>0.019997</td>\n",
              "      <td>0.737222</td>\n",
              "      <td>42.436847</td>\n",
              "      <td>No</td>\n",
              "      <td>NaN</td>\n",
              "      <td>718.429993</td>\n",
              "    </tr>\n",
              "    <tr>\n",
              "      <th>2021-03-09</th>\n",
              "      <td>608.179993</td>\n",
              "      <td>678.090027</td>\n",
              "      <td>595.210022</td>\n",
              "      <td>673.580017</td>\n",
              "      <td>673.580017</td>\n",
              "      <td>67523300</td>\n",
              "      <td>479.225039</td>\n",
              "      <td>0.196412</td>\n",
              "      <td>0.196412</td>\n",
              "      <td>0.000000</td>\n",
              "      <td>0.027476</td>\n",
              "      <td>0.028300</td>\n",
              "      <td>0.970865</td>\n",
              "      <td>49.260869</td>\n",
              "      <td>No</td>\n",
              "      <td>NaN</td>\n",
              "      <td>673.580017</td>\n",
              "    </tr>\n",
              "    <tr>\n",
              "      <th>2021-05-13</th>\n",
              "      <td>601.539978</td>\n",
              "      <td>606.460022</td>\n",
              "      <td>559.650024</td>\n",
              "      <td>571.690002</td>\n",
              "      <td>571.690002</td>\n",
              "      <td>44184900</td>\n",
              "      <td>582.562429</td>\n",
              "      <td>-0.030853</td>\n",
              "      <td>0.000000</td>\n",
              "      <td>0.030853</td>\n",
              "      <td>0.006572</td>\n",
              "      <td>0.021681</td>\n",
              "      <td>0.303141</td>\n",
              "      <td>23.262352</td>\n",
              "      <td>No</td>\n",
              "      <td>NaN</td>\n",
              "      <td>571.690002</td>\n",
              "    </tr>\n",
              "  </tbody>\n",
              "</table>\n",
              "</div>"
            ],
            "text/plain": [
              "                  Open        High  ...  Buy_Signal_Price  Sell_Signal_Price\n",
              "Date                                ...                                     \n",
              "2011-12-20    5.610000    5.690000  ...               NaN           5.580000\n",
              "2011-12-22    5.520000    5.610000  ...               NaN           5.554000\n",
              "2013-11-11   28.200001   29.084000  ...               NaN          28.940001\n",
              "2013-11-19   23.886000   25.799999  ...               NaN          25.218000\n",
              "2013-11-27   24.261999   25.389999  ...               NaN          25.388000\n",
              "2014-05-09   35.972000   36.680000  ...               NaN          36.452000\n",
              "2014-10-02   50.040001   50.557999  ...               NaN          50.284000\n",
              "2014-10-15   44.000000   46.198002  ...               NaN          45.939999\n",
              "2017-07-10   62.580002   63.588001  ...               NaN          63.209999\n",
              "2017-10-31   64.045998   66.389999  ...               NaN          66.306000\n",
              "2018-12-21   63.480000   64.694000  ...               NaN          63.953999\n",
              "2020-03-18   77.800003   80.972000  ...               NaN          72.244003\n",
              "2021-02-24  711.849976  745.000000  ...               NaN         742.020020\n",
              "2021-03-01  690.109985  719.000000  ...               NaN         718.429993\n",
              "2021-03-09  608.179993  678.090027  ...               NaN         673.580017\n",
              "2021-05-13  601.539978  606.460022  ...               NaN         571.690002\n",
              "\n",
              "[16 rows x 17 columns]"
            ]
          },
          "metadata": {
            "tags": []
          },
          "execution_count": 221
        }
      ]
    },
    {
      "cell_type": "code",
      "metadata": {
        "id": "T1YtijfaWgqs"
      },
      "source": [
        "PnL = []\n",
        "\n",
        "for i in range(len(df) - 12):\n",
        "    if \"Yes\" in df['Buy'].iloc[i]:\n",
        "        for j in range(1, 11):\n",
        "            if df['RSI'].iloc[i + j] > 40:\n",
        "                PnL.append(df['Open'].iloc[i+j+1] - df['Open'].iloc[i+1])\n",
        "                break\n",
        "            elif j == 10:\n",
        "                PnL.append(df['Open'].iloc[i+j+1] - df['Open'].iloc[i+1])"
      ],
      "execution_count": null,
      "outputs": []
    },
    {
      "cell_type": "code",
      "metadata": {
        "colab": {
          "base_uri": "https://localhost:8080/"
        },
        "id": "iO9-65p_XhU5",
        "outputId": "426473e9-fc7b-4289-f236-0fdc29da99a0"
      },
      "source": [
        "PnL"
      ],
      "execution_count": null,
      "outputs": [
        {
          "output_type": "execute_result",
          "data": {
            "text/plain": [
              "[0.17999982833862305,\n",
              " 0.18799972534179688,\n",
              " 0.2779998779296875,\n",
              " -2.979999542236328,\n",
              " -3.3000011444091797,\n",
              " 2.0680007934570312,\n",
              " 1.3760013580322266,\n",
              " 1.63800048828125,\n",
              " 1.0540008544921875,\n",
              " 2.078001022338867,\n",
              " 1.6920013427734375,\n",
              " 1.8180007934570312,\n",
              " 0.5719985961914062,\n",
              " 0.9879989624023438,\n",
              " 2.63800048828125,\n",
              " 2.628002166748047,\n",
              " 3.3800010681152344,\n",
              " 3.5,\n",
              " 0.8939971923828125,\n",
              " 2.4999961853027344,\n",
              " 2.6139984130859375,\n",
              " 2.4039993286132812,\n",
              " 0.48799896240234375,\n",
              " 15.150001525878906,\n",
              " 21.048004150390625,\n",
              " 31.25,\n",
              " 56.1500244140625,\n",
              " 6.4300537109375,\n",
              " 28.1700439453125,\n",
              " 74.239990234375,\n",
              " 99.75,\n",
              " 92.1199951171875]"
            ]
          },
          "metadata": {
            "tags": []
          },
          "execution_count": 211
        }
      ]
    },
    {
      "cell_type": "code",
      "metadata": {
        "colab": {
          "base_uri": "https://localhost:8080/"
        },
        "id": "STNoQiIBXl0f",
        "outputId": "cdd17899-112c-4e07-be16-0dda7ecc62f8"
      },
      "source": [
        "len([i for i in PnL if i > 0])"
      ],
      "execution_count": null,
      "outputs": [
        {
          "output_type": "execute_result",
          "data": {
            "text/plain": [
              "30"
            ]
          },
          "metadata": {
            "tags": []
          },
          "execution_count": 212
        }
      ]
    },
    {
      "cell_type": "code",
      "metadata": {
        "colab": {
          "base_uri": "https://localhost:8080/"
        },
        "id": "_DHsammbXzJB",
        "outputId": "e9784a98-36b1-4ffb-fb7f-1a3b92f9ddaa"
      },
      "source": [
        "len(PnL)"
      ],
      "execution_count": null,
      "outputs": [
        {
          "output_type": "execute_result",
          "data": {
            "text/plain": [
              "32"
            ]
          },
          "metadata": {
            "tags": []
          },
          "execution_count": 213
        }
      ]
    },
    {
      "cell_type": "code",
      "metadata": {
        "colab": {
          "base_uri": "https://localhost:8080/"
        },
        "id": "EtfwYxKKgOiz",
        "outputId": "9392bbc5-19b1-408c-bb04-f0c59fab5e6c"
      },
      "source": [
        "len([i for i in PnL if i > 0])/len(PnL)"
      ],
      "execution_count": null,
      "outputs": [
        {
          "output_type": "execute_result",
          "data": {
            "text/plain": [
              "0.9375"
            ]
          },
          "metadata": {
            "tags": []
          },
          "execution_count": 214
        }
      ]
    },
    {
      "cell_type": "code",
      "metadata": {
        "colab": {
          "base_uri": "https://localhost:8080/",
          "height": 577
        },
        "id": "YsCfDWmZcG8W",
        "outputId": "866594f6-b255-4157-ec66-4853ca2a69e8"
      },
      "source": [
        "plt.figure(figsize=(15, 8))\n",
        "plt.plot(df['Adj Close'], label='Close', alpha=0.35)\n",
        "plt.plot(df['MA200'], label='MA200', alpha=0.35)\n",
        "# plt.plot(df['RSI'], label='RSI', alpha=0.35)\n",
        "plt.scatter(df.index, df['Buy_Signal_Price'], label='Buy', marker='^', color='green')\n",
        "plt.scatter(df.index, df['Sell_Signal_Price'], label='Sell', marker='v', color='red')\n",
        "# plt.plot(df['RSI'], label='RSI', alpha=0.35)\n",
        "plt.title('Adjusted Price History Buy & Sell Signals')\n",
        "plt.xlabel(f'{start.strftime(\"%B %d, %Y\")} - {datetime.datetime.now().strftime(\"%B %d, %Y\")}')\n",
        "plt.ylabel('Close Price USD')\n",
        "plt.legend(loc='upper left')\n",
        "plt.tight_layout()\n",
        "plt.show()"
      ],
      "execution_count": null,
      "outputs": [
        {
          "output_type": "display_data",
          "data": {
            "image/png": "[encoded data removed]",
            "text/plain": [
              "<Figure size 1080x576 with 1 Axes>"
            ]
          },
          "metadata": {
            "tags": []
          }
        }
      ]
    },
    {
      "cell_type": "code",
      "metadata": {
        "colab": {
          "base_uri": "https://localhost:8080/",
          "height": 577
        },
        "id": "rZNdz6T3SGdk",
        "outputId": "f37095a9-4574-4785-894e-c717cb53a191"
      },
      "source": [
        "plt.figure(figsize=(15, 8))\n",
        "plt.plot(df['RSI'], label='RSI', alpha=0.35)\n",
        "plt.title('RSI')\n",
        "plt.xlabel(f'{start.strftime(\"%B %d, %Y\")} - {datetime.datetime.now().strftime(\"%B %d, %Y\")}')\n",
        "plt.ylabel('RSI Range')\n",
        "plt.legend(loc='upper left')\n",
        "plt.tight_layout()\n",
        "plt.show()"
      ],
      "execution_count": null,
      "outputs": [
        {
          "output_type": "display_data",
          "data": {
            "image/png": "[encoded data removed]",
            "text/plain": [
              "<Figure size 1080x576 with 1 Axes>"
            ]
          },
          "metadata": {
            "tags": []
          }
        }
      ]
    }
  ]
}