{
  "nbformat": 4,
  "nbformat_minor": 0,
  "metadata": {
    "colab": {
      "name": "Rayner Teo Trading Strategy",
      "provenance": [],
      "collapsed_sections": [],
      "authorship_tag": "ABX9TyNQCW9eQzaKGVsKlJAZSN+f",
      "include_colab_link": true
    },
    "kernelspec": {
      "name": "python3",
      "display_name": "Python 3"
    },
    "language_info": {
      "name": "python"
    }
  },
  "cells": [
    {
      "cell_type": "markdown",
      "metadata": {
        "id": "view-in-github",
        "colab_type": "text"
      },
      "source": [
        "<a href=\"https://colab.research.google.com/github/Papagoat/algo-trading-strategies/blob/main/Rayner_Teo_Trading_Strategy.ipynb\" target=\"_parent\"><img src=\"https://colab.research.google.com/assets/colab-badge.svg\" alt=\"Open In Colab\"/></a>"
      ]
    },
    {
      "cell_type": "markdown",
      "metadata": {
        "id": "FWe4-nHezNzy"
      },
      "source": [
        "Credit to [Albovibes](https://www.youtube.com/watch?v=JvfK4VBX75I)"
      ]
    },
    {
      "cell_type": "code",
      "metadata": {
        "id": "3y4X0GVp4YfG"
      },
      "source": [
        "pip install yfinance"
      ],
      "execution_count": null,
      "outputs": []
    },
    {
      "cell_type": "code",
      "metadata": {
        "id": "5nSfyOhphebg"
      },
      "source": [
        "import pandas as pd\n",
        "import numpy as np\n",
        "import datetime as datetime\n",
        "import matplotlib.pyplot as plt\n",
        "plt.style.use('fivethirtyeight')\n",
        "\n",
        "import yfinance as yf\n",
        "import time\n",
        "import requests\n",
        "import io"
      ],
      "execution_count": 17,
      "outputs": []
    },
    {
      "cell_type": "code",
      "metadata": {
        "id": "Y-oxaoM64gk3"
      },
      "source": [
        "start = datetime.datetime(2010,5,18)\n",
        "end = datetime.datetime.now()"
      ],
      "execution_count": 18,
      "outputs": []
    },
    {
      "cell_type": "markdown",
      "metadata": {
        "id": "dvb1IyuA0Inv"
      },
      "source": [
        "# Download candlestick charts from yahoo finance"
      ]
    },
    {
      "cell_type": "code",
      "metadata": {
        "id": "-8hUTA7E4nA7"
      },
      "source": [
        "df = yf.download(tickers=\"TSLA\",start=start, end=end)"
      ],
      "execution_count": null,
      "outputs": []
    },
    {
      "cell_type": "markdown",
      "metadata": {
        "id": "2yajxhW30UbB"
      },
      "source": [
        "# Calculate 200 day moving average and RSI values"
      ]
    },
    {
      "cell_type": "code",
      "metadata": {
        "id": "yusKdo1LR2ly"
      },
      "source": [
        "df['MA200'] = df['Adj Close'].rolling(window=200).mean()"
      ],
      "execution_count": 20,
      "outputs": []
    },
    {
      "cell_type": "code",
      "metadata": {
        "id": "8Aak8dk0S29A"
      },
      "source": [
        "df['price change'] = df['Adj Close'].pct_change()"
      ],
      "execution_count": 21,
      "outputs": []
    },
    {
      "cell_type": "code",
      "metadata": {
        "id": "JI0bU6PATTbI"
      },
      "source": [
        "df['Upmove'] = df['price change'].apply(lambda x: x if x > 0 else 0)"
      ],
      "execution_count": 22,
      "outputs": []
    },
    {
      "cell_type": "code",
      "metadata": {
        "id": "qWR3UG2gUJ6O"
      },
      "source": [
        "df['Downmove'] = df['price change'].apply(lambda x: abs(x) if x < 0 else 0)"
      ],
      "execution_count": 23,
      "outputs": []
    },
    {
      "cell_type": "code",
      "metadata": {
        "id": "8Wx1dZDuUZu5"
      },
      "source": [
        "df['Avg Up'] = df['Upmove'].ewm(span=19).mean()"
      ],
      "execution_count": 24,
      "outputs": []
    },
    {
      "cell_type": "code",
      "metadata": {
        "id": "Wa6EbIkgVN6q"
      },
      "source": [
        "df['Avg Down'] = df['Downmove'].ewm(span=19).mean()"
      ],
      "execution_count": 25,
      "outputs": []
    },
    {
      "cell_type": "code",
      "metadata": {
        "id": "bUcGjNLiVaXc"
      },
      "source": [
        "df['RS'] = df['Avg Up']/df['Avg Down']"
      ],
      "execution_count": 26,
      "outputs": []
    },
    {
      "cell_type": "code",
      "metadata": {
        "id": "Z662RyU2Vkds"
      },
      "source": [
        "df['RSI'] = df['RS'].apply(lambda x: 100 - (100/(x+1)))"
      ],
      "execution_count": 27,
      "outputs": []
    },
    {
      "cell_type": "code",
      "metadata": {
        "id": "yI0quVPRV7pC"
      },
      "source": [
        "df.loc[(df['Adj Close'] > df['MA200']) & (df['RSI'] < 30), 'Buy'] = 'Yes'"
      ],
      "execution_count": 28,
      "outputs": []
    },
    {
      "cell_type": "code",
      "metadata": {
        "id": "gjb2iyPCWND4"
      },
      "source": [
        "df.loc[(df['Adj Close'] < df['MA200']) | (df['RSI'] > 30), 'Buy'] = 'No'"
      ],
      "execution_count": 29,
      "outputs": []
    },
    {
      "cell_type": "markdown",
      "metadata": {
        "id": "JQhx02O40ayq"
      },
      "source": [
        "# Calculate profit and loss"
      ]
    },
    {
      "cell_type": "code",
      "metadata": {
        "id": "T1YtijfaWgqs"
      },
      "source": [
        "PnL = []\n",
        "\n",
        "for i in range(len(df) - 12):\n",
        "    if \"Yes\" in str(df['Buy'].iloc[i]):\n",
        "        for j in range(1, 11):\n",
        "            if df['RSI'].iloc[i + j] > 40:\n",
        "                PnL.append(df['Open'].iloc[i+j+1] - df['Open'].iloc[i+1])\n",
        "                break\n",
        "            elif j == 10:\n",
        "                PnL.append(df['Open'].iloc[i+j+1] - df['Open'].iloc[i+1])"
      ],
      "execution_count": 40,
      "outputs": []
    },
    {
      "cell_type": "code",
      "metadata": {
        "id": "iO9-65p_XhU5"
      },
      "source": [
        "PnL"
      ],
      "execution_count": null,
      "outputs": []
    },
    {
      "cell_type": "code",
      "metadata": {
        "id": "STNoQiIBXl0f"
      },
      "source": [
        "len([i for i in PnL if i > 0])"
      ],
      "execution_count": null,
      "outputs": []
    },
    {
      "cell_type": "code",
      "metadata": {
        "id": "EtfwYxKKgOiz"
      },
      "source": [
        "len([i for i in PnL if i > 0])/len(PnL)"
      ],
      "execution_count": null,
      "outputs": []
    }
  ]
}