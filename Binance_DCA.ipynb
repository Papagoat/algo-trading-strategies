{
  "nbformat": 4,
  "nbformat_minor": 0,
  "metadata": {
    "colab": {
      "name": "Binance DCA",
      "provenance": [],
      "collapsed_sections": [],
      "authorship_tag": "ABX9TyNQ98veKjqlUU1D7JhsL77y",
      "include_colab_link": true
    },
    "kernelspec": {
      "name": "python3",
      "display_name": "Python 3"
    },
    "language_info": {
      "name": "python"
    }
  },
  "cells": [
    {
      "cell_type": "markdown",
      "metadata": {
        "id": "view-in-github",
        "colab_type": "text"
      },
      "source": [
        "<a href=\"https://colab.research.google.com/github/Papagoat/algo-trading-strategies/blob/main/Binance_DCA.ipynb\" target=\"_parent\"><img src=\"https://colab.research.google.com/assets/colab-badge.svg\" alt=\"Open In Colab\"/></a>"
      ]
    },
    {
      "cell_type": "code",
      "metadata": {
        "id": "t26M9AX7Gtt9"
      },
      "source": [
        "pip install python-binance"
      ],
      "execution_count": null,
      "outputs": []
    },
    {
      "cell_type": "code",
      "metadata": {
        "id": "3ASDgL7vDUNc"
      },
      "source": [
        "from binance import AsyncClient, BinanceSocketManager\n",
        "from binance.client import Client\n",
        "from datetime import datetime, timedelta\n",
        "from getpass import getpass\n",
        "import math\n",
        "import matplotlib.pyplot as plt\n",
        "import numpy as np\n",
        "import pandas as pd"
      ],
      "execution_count": 53,
      "outputs": []
    },
    {
      "cell_type": "markdown",
      "metadata": {
        "id": "H0P00yTy8iS1"
      },
      "source": [
        "# Binance API Credentials"
      ]
    },
    {
      "cell_type": "code",
      "metadata": {
        "id": "bFz35CCb8F9F"
      },
      "source": [
        "api_key = getpass('Enter API KEY here')\n",
        "api_secret = getpass('Enter API SECRET here')"
      ],
      "execution_count": null,
      "outputs": []
    },
    {
      "cell_type": "code",
      "metadata": {
        "id": "tAL3X5bYLKmf"
      },
      "source": [
        "client = Client(api_key, api_secret)\n",
        "ticker = 'ETHUSDT'\n",
        "bm = BinanceSocketManager(client)\n",
        "ts = bm.trade_socket(ticker)"
      ],
      "execution_count": 55,
      "outputs": []
    },
    {
      "cell_type": "markdown",
      "metadata": {
        "id": "8G948SuO8m-n"
      },
      "source": [
        "# Download Binance candlestick charts"
      ]
    },
    {
      "cell_type": "code",
      "metadata": {
        "id": "asOKRjAjQmmQ"
      },
      "source": [
        "klines = client.get_historical_klines(ticker, Client.KLINE_INTERVAL_1DAY, \"1 year ago UTC\")\n",
        "df = pd.DataFrame(klines)\n",
        "df.columns = ['Open time', 'Open', 'High', 'Low', 'Close', 'Volume', 'Close time', 'Quote asset volume', 'Number of trades', 'Taker buy base asset volume', 'Taker buy quote asset volume', 'Ignore']\n",
        "\n",
        "cols = ['Open time','Close time']\n",
        "for col in cols:\n",
        "    df[col] = pd.to_datetime(df[col], unit='ms')\n",
        "\n",
        "cols_to_convert = ['Open', 'High', 'Low', 'Close']\n",
        "\n",
        "df[cols_to_convert] = pd.to_numeric(df[cols_to_convert].stack(), errors='coerce').unstack()\n",
        "\n",
        "cols_to_drop = ['Close time', 'Quote asset volume', 'Number of trades', 'Taker buy base asset volume', 'Taker buy quote asset volume', 'Ignore']\n",
        "df = df.drop(cols_to_drop, axis = 1)\n",
        "\n",
        "df['Day'] = df['Open time'].dt.strftime('%d')\n",
        "df = df[(df['Day'] == '01')]\n",
        "df = df.reset_index()"
      ],
      "execution_count": 56,
      "outputs": []
    },
    {
      "cell_type": "markdown",
      "metadata": {
        "id": "llXlIBTh-JX9"
      },
      "source": [
        "# Calculate Profit and Loss"
      ]
    },
    {
      "cell_type": "code",
      "metadata": {
        "id": "hcRWxgGJdXkB"
      },
      "source": [
        "def _sum(arr): \n",
        "    sum=0\n",
        "    for i in arr:\n",
        "        sum = sum + i\n",
        "          \n",
        "    return(sum) "
      ],
      "execution_count": 57,
      "outputs": []
    },
    {
      "cell_type": "code",
      "metadata": {
        "id": "EB2aWJAebBYe"
      },
      "source": [
        "def buy_sell(df):\n",
        "  total_amount = []\n",
        "  total_spent = 0\n",
        "  for i in range(len(df)):\n",
        "    amount = 1 / df['Close'][i] * 100\n",
        "    total_spent += 100\n",
        "    total_amount.append(amount)\n",
        "  print(f'Total Spent: {total_spent}')\n",
        "  print(f'Total {ticker}: {_sum(total_amount)}')"
      ],
      "execution_count": 58,
      "outputs": []
    },
    {
      "cell_type": "code",
      "metadata": {
        "colab": {
          "base_uri": "https://localhost:8080/"
        },
        "id": "itGjxaxGbVzd",
        "outputId": "2a5cf7a9-5216-47c0-c2df-655b373751f9"
      },
      "source": [
        "buy_sell(df)"
      ],
      "execution_count": 59,
      "outputs": [
        {
          "output_type": "stream",
          "text": [
            "Total Spent: 1200\n",
            "Total ETHUSDT: 2.004425167450506\n"
          ],
          "name": "stdout"
        }
      ]
    }
  ]
}