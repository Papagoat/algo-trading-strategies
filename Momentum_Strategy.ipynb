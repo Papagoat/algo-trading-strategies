{
  "nbformat": 4,
  "nbformat_minor": 0,
  "metadata": {
    "colab": {
      "name": "Momentum Strategy",
      "provenance": [],
      "collapsed_sections": [],
      "authorship_tag": "ABX9TyOrMtMnuPFHNXlo6Mwf0LUz",
      "include_colab_link": true
    },
    "kernelspec": {
      "name": "python3",
      "display_name": "Python 3"
    },
    "language_info": {
      "name": "python"
    }
  },
  "cells": [
    {
      "cell_type": "markdown",
      "metadata": {
        "id": "view-in-github",
        "colab_type": "text"
      },
      "source": [
        "<a href=\"https://colab.research.google.com/github/Papagoat/algo-trading-strategies/blob/main/Momentum_Strategy.ipynb\" target=\"_parent\"><img src=\"https://colab.research.google.com/assets/colab-badge.svg\" alt=\"Open In Colab\"/></a>"
      ]
    },
    {
      "cell_type": "markdown",
      "metadata": {
        "id": "T_GfW7ehvswI"
      },
      "source": [
        "Credit to [Algovibes](https://www.youtube.com/watch?v=5W_Lpz1ZuTI)"
      ]
    },
    {
      "cell_type": "code",
      "metadata": {
        "id": "_-hkbppZj-eX"
      },
      "source": [
        "pip install yfinance"
      ],
      "execution_count": null,
      "outputs": []
    },
    {
      "cell_type": "code",
      "metadata": {
        "id": "ND1FyXDCLdc6"
      },
      "source": [
        "from dateutil.relativedelta import relativedelta\n",
        "import datetime as dt\n",
        "import numpy as np\n",
        "import pandas as pd\n",
        "import pandas_datareader as reader\n",
        "import requests\n",
        "import yfinance as yf"
      ],
      "execution_count": null,
      "outputs": []
    },
    {
      "cell_type": "markdown",
      "metadata": {
        "id": "1i45vtOiu1r7"
      },
      "source": [
        "# Get list of crypto tickers from Yahoo Finance"
      ]
    },
    {
      "cell_type": "code",
      "metadata": {
        "id": "VVxXwIdrMbtM"
      },
      "source": [
        "crypto_list = 'http://sg.finance.yahoo.com/cryptocurrencies'"
      ],
      "execution_count": null,
      "outputs": []
    },
    {
      "cell_type": "code",
      "metadata": {
        "id": "p9_eqAynMebx"
      },
      "source": [
        "tickersCrypto = pd.read_html(crypto_list)[0].Symbol.to_list()"
      ],
      "execution_count": null,
      "outputs": []
    },
    {
      "cell_type": "markdown",
      "metadata": {
        "id": "6_07xj49vKVo"
      },
      "source": [
        "# Download candlestick chart using yfinance"
      ]
    },
    {
      "cell_type": "code",
      "metadata": {
        "colab": {
          "base_uri": "https://localhost:8080/"
        },
        "id": "4fWfbMMpNYnI",
        "outputId": "be721fc2-2a39-450d-a518-ddbdc42e483c"
      },
      "source": [
        "start = dt.datetime(2018,1,31)\n",
        "end = dt.datetime.now()\n",
        "\n",
        "df = yf.download(tickersCrypto, start=start, end=end)\n",
        "df = df['Adj Close']"
      ],
      "execution_count": null,
      "outputs": [
        {
          "output_type": "stream",
          "text": [
            "[*********************100%***********************]  25 of 25 completed\n"
          ],
          "name": "stdout"
        }
      ]
    },
    {
      "cell_type": "markdown",
      "metadata": {
        "id": "eiVdEvsAvXZa"
      },
      "source": [
        "# Calculate monthly returns by cumulating daily returns"
      ]
    },
    {
      "cell_type": "code",
      "metadata": {
        "id": "Kj7G7WzXN85Q"
      },
      "source": [
        "mtl_ret = df.pct_change().resample('M').agg(lambda x:(x+1).prod() -1)\n",
        "mtl_ret"
      ],
      "execution_count": null,
      "outputs": []
    },
    {
      "cell_type": "markdown",
      "metadata": {
        "id": "xHykOAiJvaJm"
      },
      "source": [
        "# Calculate returns over the past 11 months"
      ]
    },
    {
      "cell_type": "code",
      "metadata": {
        "id": "D4cAidUKO8nl"
      },
      "source": [
        "past_11 = (mtl_ret+1).rolling(11).apply(np.prod)-1\n",
        "past_11.dropna()"
      ],
      "execution_count": null,
      "outputs": []
    },
    {
      "cell_type": "code",
      "metadata": {
        "id": "FIjM62WpQDSU"
      },
      "source": [
        "formation = dt.datetime(2021,5,31)\n",
        "end_measurement = formation - relativedelta(months=1)"
      ],
      "execution_count": null,
      "outputs": []
    },
    {
      "cell_type": "code",
      "metadata": {
        "id": "sGdViOB2Qu3y"
      },
      "source": [
        "ret_12 = past_11.loc[end_measurement]\n",
        "ret_12 = ret_12.reset_index()"
      ],
      "execution_count": null,
      "outputs": []
    },
    {
      "cell_type": "code",
      "metadata": {
        "id": "fYDbGB3JQ38g"
      },
      "source": [
        "ret_12['quintile'] = pd.qcut(ret_12.iloc[:,1],5,labels=False)\n",
        "ret_12.columns = ['Symbols', 'Date', 'quintile']"
      ],
      "execution_count": null,
      "outputs": []
    },
    {
      "cell_type": "code",
      "metadata": {
        "id": "A_GQNhFCT0Hz"
      },
      "source": [
        "winners = ret_12[ret_12.quintile >= 3]\n",
        "losers = ret_12[ret_12.quintile == 0]"
      ],
      "execution_count": null,
      "outputs": []
    },
    {
      "cell_type": "code",
      "metadata": {
        "id": "KmdYSBjDUIeh"
      },
      "source": [
        "winner_ret = mtl_ret.loc[formation + relativedelta(months=1), df.columns.isin(winners.Symbols)]\n",
        "loser_ret = mtl_ret.loc[formation + relativedelta(months=1), df.columns.isin(losers.Symbols)]"
      ],
      "execution_count": null,
      "outputs": []
    },
    {
      "cell_type": "code",
      "metadata": {
        "id": "3pW19CPFU6_Q"
      },
      "source": [
        "momentum_profit = winner_ret.mean() - loser_ret.mean()"
      ],
      "execution_count": null,
      "outputs": []
    },
    {
      "cell_type": "code",
      "metadata": {
        "id": "mQERiLMbVOHA"
      },
      "source": [
        "Crypto = yf.download(tickersCrypto, start=start, end=end)['Adj Close'].pct_change().resample('M').agg(lambda x: (x+1).prod() - 1)"
      ],
      "execution_count": null,
      "outputs": []
    }
  ]
}